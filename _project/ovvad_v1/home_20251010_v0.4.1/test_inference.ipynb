{
 "cells": [
  {
   "cell_type": "code",
   "execution_count": 1,
   "id": "882f45f8",
   "metadata": {},
   "outputs": [],
   "source": [
    "import os\n",
    "import pandas as pd\n",
    "from sklearn.model_selection import train_test_split\n",
    "from dataloader import get_dataloaders, BaseDataset"
   ]
  },
  {
   "cell_type": "code",
   "execution_count": 2,
   "id": "86103ca6",
   "metadata": {},
   "outputs": [],
   "source": [
    "import torch\n",
    "from torch.utils.data import Dataset, DataLoader\n",
    "from torchvision import transforms as T\n",
    "\n",
    "#============================================\n",
    "dataset_dir=\"/mnt/d/datasets/custom\"\n",
    "dataset_type=\"module1\"\n",
    "category=\"grid\"\n",
    "img_size = 256\n",
    "normalize = True\n",
    "batch_size = 16\n",
    "num_workers = 8\n",
    "pin_memory = True\n",
    "persistent_workers = True\n",
    "#============================================\n"
   ]
  },
  {
   "cell_type": "code",
   "execution_count": 7,
   "id": "b167b079",
   "metadata": {},
   "outputs": [
    {
     "name": "stdout",
     "output_type": "stream",
     "text": [
      " > CSV file not found: /mnt/d/datasets/custom/module1/data_rgb/data_info.csv\n",
      " > Creating CSV file...\n",
      " > Total images: 668\n",
      " > Categories: ['grid' 'tile']\n",
      " > Labels: Normal=510, Anomaly=158\n",
      " > CSV file created: /mnt/d/datasets/custom/module1/data_rgb/data_info.csv\n",
      " > module1 - grid - train set: 224 images, Normal: 224, Anomaly: 0\n",
      " > module1 - grid - test set: 145 images, Normal: 56, Anomaly: 89\n"
     ]
    }
   ],
   "source": [
    "train_loader, test_loader = get_dataloaders(\n",
    "    dataset_dir=\"/mnt/d/datasets/custom\",\n",
    "    dataset_type=\"module1\",\n",
    "    category=\"grid\",\n",
    "    img_size=256,\n",
    "    batch_size=16,\n",
    "    normalize=True,\n",
    "    num_workers=8,\n",
    "    pin_memory=True,\n",
    "    persistent_workers=True\n",
    ")"
   ]
  }
 ],
 "metadata": {
  "kernelspec": {
   "display_name": "pytorch_env",
   "language": "python",
   "name": "python3"
  },
  "language_info": {
   "codemirror_mode": {
    "name": "ipython",
    "version": 3
   },
   "file_extension": ".py",
   "mimetype": "text/x-python",
   "name": "python",
   "nbconvert_exporter": "python",
   "pygments_lexer": "ipython3",
   "version": "3.10.16"
  }
 },
 "nbformat": 4,
 "nbformat_minor": 5
}
