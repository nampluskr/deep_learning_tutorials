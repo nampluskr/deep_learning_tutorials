{
 "cells": [
  {
   "cell_type": "code",
   "execution_count": 2,
   "id": "12f29058",
   "metadata": {},
   "outputs": [],
   "source": [
    "import os\n",
    "from dataloader import get_dataloaders\n",
    "from registry import get_trainer, get_config\n",
    "\n",
    "# Global VARIABLES\n",
    "DATASET_DIR = \"/mnt/d/datasets\"\n",
    "BACKBONE_DIR = \"/mnt/d/backbones\"\n",
    "OUTPUT_DIR = \"/mnt/d/outputs\"\n",
    "SEED = 42\n",
    "NUM_WORKERS = 8\n",
    "PIN_MEMORY = True\n",
    "PERSISTENT_WORKERS = True\n",
    "\n",
    "\n",
    "def run(dataset_type, category, model_type, num_epochs=None, batch_size=None, img_size=None, normalize=None):\n",
    "    config = get_config(model_type)\n",
    "    num_epochs = num_epochs or config[\"num_epochs\"]\n",
    "    img_size = img_size or config[\"img_size\"]\n",
    "    batch_size = batch_size or config[\"batch_size\"]\n",
    "    normalize = normalize or config[\"normalize\"]\n",
    "\n",
    "    result_dir = os.path.join(OUTPUT_DIR, dataset_type, category, model_type)\n",
    "    weight_name = f\"model_{dataset_type}_{category}_{model_type}_epochs-{num_epochs}.pth\"\n",
    "    image_prefix = f\"image_{dataset_type}_{category}_{model_type}_epochs-{num_epochs}\"\n",
    "\n",
    "    # set_seed(seed=SEED)\n",
    "    train_loader, test_loader = get_dataloaders(dataset_type, category,\n",
    "        root_dir=os.path.join(DATASET_DIR, dataset_type),\n",
    "        img_size=img_size, batch_size=batch_size, normalize=normalize,\n",
    "        num_workers=NUM_WORKERS, pin_memory=PIN_MEMORY, persistent_workers=PERSISTENT_WORKERS)\n",
    "\n",
    "    trainer = get_trainer(model_type,\n",
    "        backbone_dir=BACKBONE_DIR, dataset_dir=DATASET_DIR, img_size=img_size)\n",
    "    trainer.fit(train_loader, num_epochs, valid_loader=test_loader, \n",
    "                weight_path=os.path.join(result_dir, weight_name))\n",
    "\n",
    "    trainer.test(test_loader, result_dir=result_dir, image_prefix=image_prefix, normalize=normalize,\n",
    "                 skip_normal=True, num_max=10)\n",
    "    trainer.test(test_loader, result_dir=result_dir, image_prefix=image_prefix, normalize=normalize,\n",
    "                 skip_anomaly=True, num_max=10)"
   ]
  },
  {
   "cell_type": "code",
   "execution_count": 3,
   "id": "3ccb1e14",
   "metadata": {},
   "outputs": [
    {
     "name": "stdout",
     "output_type": "stream",
     "text": [
      " > grid - train set: 264 images, Normal: 264, Anomaly: 0\n",
      " > grid - test set: 78 images, Normal: 21, Anomaly: 57\n"
     ]
    },
    {
     "name": "stderr",
     "output_type": "stream",
     "text": [
      "/home/nampl/anaconda3/envs/pytorch_env/lib/python3.10/site-packages/tqdm/auto.py:21: TqdmWarning: IProgress not found. Please update jupyter and ipywidgets. See https://ipywidgets.readthedocs.io/en/stable/user_install.html\n",
      "  from .autonotebook import tqdm as notebook_tqdm\n"
     ]
    },
    {
     "name": "stdout",
     "output_type": "stream",
     "text": [
      " > [Info] resnet50 weight is found in /mnt/d/backbones/resnet50-0676ba61.pth.\n",
      " > Backbone directory set to: /mnt/d/backbones\n",
      "\n",
      " > Start training...\n",
      "\n"
     ]
    },
    {
     "name": "stderr",
     "output_type": "stream",
     "text": [
      "                                                                         \r"
     ]
    },
    {
     "name": "stdout",
     "output_type": "stream",
     "text": [
      "  [  1/10] loss=15.917 | auroc=0.378, aupr=0.656 (5.6s)\n"
     ]
    },
    {
     "name": "stderr",
     "output_type": "stream",
     "text": [
      "                                                                        \r"
     ]
    },
    {
     "name": "stdout",
     "output_type": "stream",
     "text": [
      "  [  2/10] loss=8.252 | auroc=0.448, aupr=0.692 (3.1s)\n"
     ]
    },
    {
     "name": "stderr",
     "output_type": "stream",
     "text": [
      "                                                                        \r"
     ]
    },
    {
     "name": "stdout",
     "output_type": "stream",
     "text": [
      "  [  3/10] loss=6.182 | auroc=0.599, aupr=0.812 (4.6s)\n"
     ]
    },
    {
     "name": "stderr",
     "output_type": "stream",
     "text": [
      "                                                                        \r"
     ]
    },
    {
     "name": "stdout",
     "output_type": "stream",
     "text": [
      "  [  4/10] loss=4.773 | auroc=0.786, aupr=0.916 (4.8s)\n"
     ]
    },
    {
     "name": "stderr",
     "output_type": "stream",
     "text": [
      "                                                                        \r"
     ]
    },
    {
     "name": "stdout",
     "output_type": "stream",
     "text": [
      "  [  5/10] loss=4.150 | auroc=0.908, aupr=0.969 (4.7s)\n",
      " > th=0.017, acc=0.859, prec=0.911, recall=0.895, f1=0.903 (TP=51, FN=6, TN=16, FP=5)\n",
      "\n"
     ]
    },
    {
     "name": "stderr",
     "output_type": "stream",
     "text": [
      "                                                                        \r"
     ]
    },
    {
     "name": "stdout",
     "output_type": "stream",
     "text": [
      "  [  6/10] loss=3.687 | auroc=0.933, aupr=0.979 (4.7s)\n"
     ]
    },
    {
     "name": "stderr",
     "output_type": "stream",
     "text": [
      "                                                                        \r"
     ]
    },
    {
     "name": "stdout",
     "output_type": "stream",
     "text": [
      "  [  7/10] loss=3.364 | auroc=0.957, aupr=0.986 (4.8s)\n"
     ]
    },
    {
     "name": "stderr",
     "output_type": "stream",
     "text": [
      "                                                                        \r"
     ]
    },
    {
     "name": "stdout",
     "output_type": "stream",
     "text": [
      "  [  8/10] loss=3.019 | auroc=0.943, aupr=0.982 (3.1s)\n"
     ]
    },
    {
     "name": "stderr",
     "output_type": "stream",
     "text": [
      "                                                                        \r"
     ]
    },
    {
     "name": "stdout",
     "output_type": "stream",
     "text": [
      "  [  9/10] loss=2.856 | auroc=0.946, aupr=0.980 (4.6s)\n"
     ]
    },
    {
     "name": "stderr",
     "output_type": "stream",
     "text": [
      "                                                                        \r"
     ]
    },
    {
     "name": "stdout",
     "output_type": "stream",
     "text": [
      "  [ 10/10] loss=2.725 | auroc=0.950, aupr=0.984 (4.6s)\n",
      " > th=0.008, acc=0.923, prec=0.947, recall=0.947, f1=0.947 (TP=54, FN=3, TN=18, FP=3)\n",
      "\n",
      " > Learning rate changed: 4.000e-01 -> 2.000e-01\n",
      "\n",
      "\n",
      " > Training finished... in 00:00:45\n",
      "\n",
      " > Model (optimizer/scheduler) weights saved to: /mnt/d/outputs/mvtec/grid/stfpm/model_mvtec_grid_stfpm_epochs-10.pth\n",
      "\n"
     ]
    }
   ],
   "source": [
    "dataset_type, category = \"mvtec\", \"grid\"\n",
    "run(dataset_type, category, \"stfpm\", num_epochs=10)"
   ]
  }
 ],
 "metadata": {
  "kernelspec": {
   "display_name": "pytorch_env",
   "language": "python",
   "name": "python3"
  },
  "language_info": {
   "codemirror_mode": {
    "name": "ipython",
    "version": 3
   },
   "file_extension": ".py",
   "mimetype": "text/x-python",
   "name": "python",
   "nbconvert_exporter": "python",
   "pygments_lexer": "ipython3",
   "version": "3.10.16"
  }
 },
 "nbformat": 4,
 "nbformat_minor": 5
}
