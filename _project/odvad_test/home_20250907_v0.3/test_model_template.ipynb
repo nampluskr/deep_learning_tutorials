{
 "cells": [
  {
   "cell_type": "code",
   "execution_count": 1,
   "id": "58aefa1a",
   "metadata": {},
   "outputs": [
    {
     "name": "stderr",
     "output_type": "stream",
     "text": [
      "/home/nampl/anaconda3/envs/pytorch_env/lib/python3.10/site-packages/tqdm/auto.py:21: TqdmWarning: IProgress not found. Please update jupyter and ipywidgets. See https://ipywidgets.readthedocs.io/en/stable/user_install.html\n",
      "  from .autonotebook import tqdm as notebook_tqdm\n"
     ]
    }
   ],
   "source": [
    "import torch\n",
    "from config import load_config\n",
    "from main import load_model, get_device, count_labels\n",
    "from builders import build_transform, build_dataloader\n",
    "from builders import build_model, build_modeler, build_trainer\n",
    "from main import show_results"
   ]
  },
  {
   "cell_type": "code",
   "execution_count": 2,
   "id": "a5dc6c2b",
   "metadata": {},
   "outputs": [
    {
     "name": "stdout",
     "output_type": "stream",
     "text": [
      " > Config loaded: config_20250906_171558_mvtec_vanilla_vae.json\n",
      "Normal samples: 34\n",
      "Anomaly samples: 63\n",
      "Total samples: 97\n"
     ]
    }
   ],
   "source": [
    "experiment_dir = './experiments/20250906_171558_mvtec_vanilla_vae'\n",
    "config = load_config(experiment_dir)\n",
    "\n",
    "test_transform = build_transform(config.test_transform_type, **config.test_transform_params)\n",
    "dataloader = build_dataloader(config.dataloader_type, **config.dataloader_params,\n",
    "    train_transform=None, test_transform=test_transform)\n",
    "test_loader = dataloader.test_loader()\n",
    "\n",
    "normal_count, anomaly_count = count_labels(test_loader.dataset)\n",
    "print(f\"Normal samples: {normal_count}\")\n",
    "print(f\"Anomaly samples: {anomaly_count}\")\n",
    "print(f\"Total samples: {normal_count + anomaly_count}\")"
   ]
  },
  {
   "cell_type": "code",
   "execution_count": 3,
   "id": "813f6a2c",
   "metadata": {},
   "outputs": [
    {
     "name": "stdout",
     "output_type": "stream",
     "text": [
      " > Model loaded: model_20250906_171558_mvtec_vanilla_vae.pth\n"
     ]
    }
   ],
   "source": [
    "model = build_model(config.model_type, **config.model_params)\n",
    "loaded_model = load_model(model, experiment_dir)\n",
    "device = get_device()\n",
    "loaded_model = loaded_model.to(device)"
   ]
  },
  {
   "cell_type": "code",
   "execution_count": 4,
   "id": "7b842d2e",
   "metadata": {},
   "outputs": [
    {
     "name": "stdout",
     "output_type": "stream",
     "text": [
      "\n",
      "=== Single Batch Inference Test ===\n",
      " > Input shape: torch.Size([2, 3, 256, 256])\n",
      " > Output type: <class 'dict'>\n",
      " > Output keys: ['pred_score', 'anomaly_map']\n",
      " > Prediction scores shape: torch.Size([2, 1])\n"
     ]
    }
   ],
   "source": [
    "sample_batch = next(iter(test_loader))\n",
    "\n",
    "print(\"\\n=== Single Batch Inference Test ===\")\n",
    "with torch.no_grad():\n",
    "    images = sample_batch['image'].to(device)\n",
    "    labels = sample_batch['label'].to(device)\n",
    "    print(f\" > Input shape: {images.shape}\")\n",
    "\n",
    "    loaded_model.eval()\n",
    "    outputs = loaded_model(images)\n",
    "    print(f\" > Output type: {type(outputs)}\")\n",
    "    print(f\" > Output keys: {list(outputs.keys())}\")\n",
    "    print(f\" > Prediction scores shape: {outputs['pred_score'].shape}\")"
   ]
  },
  {
   "cell_type": "code",
   "execution_count": 5,
   "id": "230a2027",
   "metadata": {},
   "outputs": [],
   "source": [
    "modeler = build_modeler(config.modeler_type, model=loaded_model)\n",
    "trainer = build_trainer(config.trainer_type, modeler=modeler)"
   ]
  },
  {
   "cell_type": "code",
   "execution_count": 6,
   "id": "8c7ebf1e",
   "metadata": {},
   "outputs": [
    {
     "name": "stderr",
     "output_type": "stream",
     "text": [
      "                                                                 \r"
     ]
    },
    {
     "name": "stdout",
     "output_type": "stream",
     "text": [
      "\n",
      "------------------------------------------------------------\n",
      "EXPERIMENT RESULTS\n",
      "------------------------------------------------------------\n",
      " > AUROC:             0.4080\n",
      " > AUPR:              0.6336\n",
      " > Threshold:         3.242e-01\n",
      "------------------------------------------------------------\n",
      " > Accuracy:          0.6495\n",
      " > Precision:         0.6495\n",
      " > Recall:            1.0000\n",
      " > F1-Score:          0.7875\n",
      "\n"
     ]
    }
   ],
   "source": [
    "results = trainer.test(test_loader)\n",
    "show_results(results)"
   ]
  },
  {
   "cell_type": "code",
   "execution_count": 10,
   "id": "87d41481",
   "metadata": {},
   "outputs": [
    {
     "name": "stderr",
     "output_type": "stream",
     "text": [
      "                                                                    "
     ]
    },
    {
     "name": "stdout",
     "output_type": "stream",
     "text": [
      "\n",
      "============================================================\n",
      "DETAILED ANALYSIS & VISUALIZATION\n",
      "============================================================\n",
      "\n",
      "=== Score Distribution Details ===\n",
      "Normal samples: 34\n",
      "  Mean ± Std: 0.324178 ± 0.000002\n",
      "  Percentiles: 25%=0.324177, 50%=0.324178, 75%=0.324180\n",
      "Anomaly samples: 63\n",
      "  Mean ± Std: 0.324177 ± 0.000004\n",
      "  Percentiles: 25%=0.324176, 50%=0.324177, 75%=0.324179\n"
     ]
    },
    {
     "name": "stderr",
     "output_type": "stream",
     "text": [
      "\r"
     ]
    }
   ],
   "source": [
    "# 이제 predictions를 활용한 심화 분석\n",
    "predictions = trainer.predict(test_loader)\n",
    "gt_labels = predictions['labels']\n",
    "pred_scores = predictions['pred_scores']\n",
    "anomaly_maps = predictions['anomaly_maps']\n",
    "\n",
    "print(\"\\n\" + \"=\"*60)\n",
    "print(\"DETAILED ANALYSIS & VISUALIZATION\")\n",
    "print(\"=\"*60)\n",
    "\n",
    "# === 점수 분포 상세 분석 ===\n",
    "print(\"\\n=== Score Distribution Details ===\")\n",
    "normal_mask = gt_labels == 0\n",
    "anomaly_mask = gt_labels == 1\n",
    "normal_scores = pred_scores[normal_mask]\n",
    "anomaly_scores = pred_scores[anomaly_mask]\n",
    "\n",
    "print(f\"Normal samples: {len(normal_scores)}\")\n",
    "print(f\"  Mean ± Std: {normal_scores.mean():.6f} ± {normal_scores.std():.6f}\")\n",
    "print(f\"  Percentiles: 25%={torch.quantile(normal_scores, 0.25):.6f}, 50%={torch.quantile(normal_scores, 0.5):.6f}, 75%={torch.quantile(normal_scores, 0.75):.6f}\")\n",
    "\n",
    "print(f\"Anomaly samples: {len(anomaly_scores)}\")\n",
    "print(f\"  Mean ± Std: {anomaly_scores.mean():.6f} ± {anomaly_scores.std():.6f}\")\n",
    "print(f\"  Percentiles: 25%={torch.quantile(anomaly_scores, 0.25):.6f}, 50%={torch.quantile(anomaly_scores, 0.5):.6f}, 75%={torch.quantile(anomaly_scores, 0.75):.6f}\")"
   ]
  },
  {
   "cell_type": "code",
   "execution_count": 13,
   "id": "1b2b5b29",
   "metadata": {},
   "outputs": [
    {
     "name": "stdout",
     "output_type": "stream",
     "text": [
      "\n",
      "=== Sample Analysis ===\n",
      "Most confident normal samples (lowest scores):\n",
      "  #1: Index 0, Score: 0.324178\n",
      "  #2: Index 0, Score: 0.324178\n",
      "  #3: Index 0, Score: 0.324178\n",
      "  #4: Index 0, Score: 0.324178\n",
      "  #5: Index 0, Score: 0.324178\n",
      "Most confident anomaly samples (highest scores):\n",
      "  #1: Index 34, Score: 0.324177\n",
      "  #2: Index 34, Score: 0.324177\n",
      "  #3: Index 34, Score: 0.324177\n",
      "  #4: Index 34, Score: 0.324177\n",
      "  #5: Index 34, Score: 0.324177\n"
     ]
    }
   ],
   "source": [
    "# === 샘플별 상세 분석 ===\n",
    "print(\"\\n=== Sample Analysis ===\")\n",
    "threshold = results['threshold']\n",
    "\n",
    "# 가장 확실한 정상/이상 샘플들\n",
    "top_normal_indices = torch.argsort(normal_scores)[:5]  # 가장 낮은 점수 5개\n",
    "top_anomaly_indices = torch.argsort(anomaly_scores, descending=True)[:5]  # 가장 높은 점수 5개\n",
    "\n",
    "print(f\"Most confident normal samples (lowest scores):\")\n",
    "for i, idx in enumerate(top_normal_indices):\n",
    "    global_idx = torch.where(normal_mask)[0][idx]\n",
    "    print(f\"  #{i+1}: Index {global_idx.item()}, Score: {normal_scores[idx].item():.6f}\")\n",
    "\n",
    "print(f\"Most confident anomaly samples (highest scores):\")\n",
    "for i, idx in enumerate(top_anomaly_indices):\n",
    "    global_idx = torch.where(anomaly_mask)[0][idx]\n",
    "    print(f\"  #{i+1}: Index {global_idx.item()}, Score: {anomaly_scores[idx].item():.6f}\")"
   ]
  },
  {
   "cell_type": "code",
   "execution_count": 14,
   "id": "65896203",
   "metadata": {},
   "outputs": [
    {
     "name": "stdout",
     "output_type": "stream",
     "text": [
      "\n",
      "Boundary samples (near threshold 0.324156):\n",
      "  Normal samples near boundary: 34\n",
      "  Anomaly samples near boundary: 63\n",
      "  Boundary normal scores: ['0.324178', '0.324181', '0.324179', '0.324180', '0.324175']\n",
      "  Boundary anomaly scores: ['0.324177', '0.324175', '0.324177', '0.324179', '0.324173']\n"
     ]
    }
   ],
   "source": [
    "# 경계선 근처 샘플들\n",
    "boundary_normal = normal_scores[(normal_scores >= threshold * 0.8) & (normal_scores <= threshold * 1.2)]\n",
    "boundary_anomaly = anomaly_scores[(anomaly_scores >= threshold * 0.8) & (anomaly_scores <= threshold * 1.2)]\n",
    "\n",
    "print(f\"\\nBoundary samples (near threshold {threshold:.6f}):\")\n",
    "print(f\"  Normal samples near boundary: {len(boundary_normal)}\")\n",
    "print(f\"  Anomaly samples near boundary: {len(boundary_anomaly)}\")\n",
    "\n",
    "# 추가: 경계선 근처 샘플들의 상세 정보\n",
    "if len(boundary_normal) > 0:\n",
    "    print(f\"  Boundary normal scores: {[f'{score.item():.6f}' for score in boundary_normal[:5]]}\")  # 처음 5개만\n",
    "if len(boundary_anomaly) > 0:\n",
    "    print(f\"  Boundary anomaly scores: {[f'{score.item():.6f}' for score in boundary_anomaly[:5]]}\")  # 처음 5개만"
   ]
  },
  {
   "cell_type": "markdown",
   "id": "19be3c00",
   "metadata": {},
   "source": [
    "### 1. 환경 설정 및 임포트"
   ]
  },
  {
   "cell_type": "code",
   "execution_count": 1,
   "id": "c7fc255e",
   "metadata": {},
   "outputs": [
    {
     "name": "stderr",
     "output_type": "stream",
     "text": [
      "/home/nampl/anaconda3/envs/pytorch_env/lib/python3.10/site-packages/tqdm/auto.py:21: TqdmWarning: IProgress not found. Please update jupyter and ipywidgets. See https://ipywidgets.readthedocs.io/en/stable/user_install.html\n",
      "  from .autonotebook import tqdm as notebook_tqdm\n"
     ]
    },
    {
     "name": "stdout",
     "output_type": "stream",
     "text": [
      "✓ All imports successful\n",
      "PyTorch version: 2.6.0+cu118\n",
      "Device available: CUDA\n"
     ]
    }
   ],
   "source": [
    "# 기본 라이브러리 임포트\n",
    "import os\n",
    "import torch\n",
    "import numpy as np\n",
    "import matplotlib.pyplot as plt\n",
    "import json\n",
    "import pickle\n",
    "from pathlib import Path\n",
    "\n",
    "# 프로젝트 모듈 임포트 (경로 설정)\n",
    "import sys\n",
    "\n",
    "# 실제 프로젝트 경로로 수정\n",
    "sys.path.append('/mnt/d/github/deep_learning_tutorials/_project/odvad_test/home_20250907_v0.3')\n",
    "\n",
    "from config import load_config\n",
    "from main import load_model\n",
    "from builders import build_dataloader, build_model, build_transform, build_modeler, build_trainer\n",
    "from metrics import AUROCMetric, AUPRMetric, OptimalThresholdMetric\n",
    "from metrics import AccuracyMetric, PrecisionMetric, RecallMetric, F1Metric\n",
    "\n",
    "print(\"✓ All imports successful\")\n",
    "print(f\"PyTorch version: {torch.__version__}\")\n",
    "print(f\"Device available: {'CUDA' if torch.cuda.is_available() else 'CPU'}\")"
   ]
  },
  {
   "cell_type": "markdown",
   "id": "36505e96",
   "metadata": {},
   "source": [
    "### 2. 실험 설정 및 Config 로딩"
   ]
  },
  {
   "cell_type": "code",
   "execution_count": 2,
   "id": "e2da2bc4",
   "metadata": {},
   "outputs": [
    {
     "name": "stdout",
     "output_type": "stream",
     "text": [
      " > Config loaded: config_20250907_095729_mvtec_efficientad.json\n",
      "✓ Config loaded successfully\n",
      "Model type: efficientad\n",
      "Dataset: mvtec\n",
      "Categories: ['bottle']\n",
      "Image size: 256\n"
     ]
    }
   ],
   "source": [
    "# 실험 폴더 경로 설정\n",
    "experiment_dir = './experiments/20250907_095729_mvtec_efficientad'\n",
    "\n",
    "# Config 로딩\n",
    "config = load_config(experiment_dir)\n",
    "\n",
    "if config:\n",
    "    print(\"✓ Config loaded successfully\")\n",
    "    print(f\"Model type: {config.model_type}\")\n",
    "    print(f\"Dataset: {config.dataloader_type}\")\n",
    "    print(f\"Categories: {config.dataloader_params.get('categories', 'All')}\")\n",
    "    print(f\"Image size: {config.test_transform_params.get('img_size', 'Unknown')}\")\n",
    "else:\n",
    "    print(\"✗ Failed to load config\")\n",
    "    raise Exception(\"Config loading failed\")"
   ]
  },
  {
   "cell_type": "markdown",
   "id": "3b9c00f6",
   "metadata": {},
   "source": [
    "### 3. 데이터로더 생성"
   ]
  },
  {
   "cell_type": "code",
   "execution_count": 3,
   "id": "843615fa",
   "metadata": {},
   "outputs": [
    {
     "name": "stdout",
     "output_type": "stream",
     "text": [
      "✓ Dataloader created successfully\n",
      "Test dataset size: 108\n",
      "Batch size: 4\n",
      "Number of batches: 27\n",
      "Sample batch shapes:\n",
      "  Images: torch.Size([4, 3, 256, 256])\n",
      "  Labels: torch.Size([4])\n"
     ]
    }
   ],
   "source": [
    "# Transform 및 데이터로더 생성\n",
    "test_transform = build_transform(config.test_transform_type, **config.test_transform_params)\n",
    "dataloader = build_dataloader(\n",
    "    config.dataloader_type,\n",
    "    **config.dataloader_params,\n",
    "    train_transform=None,\n",
    "    test_transform=test_transform\n",
    ")\n",
    "\n",
    "# 데이터셋 정보 확인\n",
    "test_loader = dataloader.test_loader()\n",
    "print(f\"✓ Dataloader created successfully\")\n",
    "print(f\"Test dataset size: {len(test_loader.dataset)}\")\n",
    "print(f\"Batch size: {test_loader.batch_size}\")\n",
    "print(f\"Number of batches: {len(test_loader)}\")\n",
    "\n",
    "# 샘플 배치 확인\n",
    "sample_batch = next(iter(test_loader))\n",
    "print(f\"Sample batch shapes:\")\n",
    "print(f\"  Images: {sample_batch['image'].shape}\")\n",
    "print(f\"  Labels: {sample_batch['label'].shape}\")"
   ]
  },
  {
   "cell_type": "markdown",
   "id": "9375ea87",
   "metadata": {},
   "source": [
    "### 4. 모델 생성 및 가중치 로딩"
   ]
  },
  {
   "cell_type": "code",
   "execution_count": 4,
   "id": "21376671",
   "metadata": {},
   "outputs": [
    {
     "name": "stdout",
     "output_type": "stream",
     "text": [
      "✓ Model created: EfficientADModel\n",
      " > Model loaded: model_20250907_095729_mvtec_efficientad.pth\n",
      "✓ Model weights loaded successfully\n",
      "✓ Model moved to: cuda\n",
      "Total parameters: 8,058,628\n",
      "Trainable parameters: 5,364,484\n"
     ]
    }
   ],
   "source": [
    "# 모델 생성\n",
    "model = build_model(config.model_type, **config.model_params)\n",
    "print(f\"✓ Model created: {type(model).__name__}\")\n",
    "\n",
    "# 가중치 로딩\n",
    "loaded_model = load_model(model, experiment_dir)\n",
    "if loaded_model:\n",
    "    print(\"✓ Model weights loaded successfully\")\n",
    "    loaded_model.eval()\n",
    "    \n",
    "    # GPU 사용 가능하면 이동\n",
    "    device = torch.device(\"cuda\" if torch.cuda.is_available() else \"cpu\")\n",
    "    loaded_model = loaded_model.to(device)\n",
    "    print(f\"✓ Model moved to: {device}\")\n",
    "    \n",
    "    # 모델 정보\n",
    "    total_params = sum(p.numel() for p in loaded_model.parameters())\n",
    "    trainable_params = sum(p.numel() for p in loaded_model.parameters() if p.requires_grad)\n",
    "    print(f\"Total parameters: {total_params:,}\")\n",
    "    print(f\"Trainable parameters: {trainable_params:,}\")\n",
    "else:\n",
    "    print(\"✗ Failed to load model weights\")\n",
    "    raise Exception(\"Model loading failed\")"
   ]
  },
  {
   "cell_type": "markdown",
   "id": "25a2274f",
   "metadata": {},
   "source": [
    "### 5. 단일 배치 추론 테스트"
   ]
  },
  {
   "cell_type": "code",
   "execution_count": 5,
   "id": "a70f8ea3",
   "metadata": {},
   "outputs": [
    {
     "name": "stdout",
     "output_type": "stream",
     "text": [
      "=== Single Batch Inference Test ===\n",
      "Input shape: torch.Size([4, 3, 256, 256])\n",
      "Input device: cuda:0\n",
      "Output type: <class 'dict'>\n",
      "Output keys: ['pred_score', 'anomaly_map']\n",
      "Prediction scores shape: torch.Size([4, 1])\n",
      "Score range: [0.239370, 0.239383]\n",
      "Sample scores: [[0.23938298]\n",
      " [0.23937058]\n",
      " [0.2393813 ]\n",
      " [0.23937006]]\n",
      "Anomaly maps shape: torch.Size([4, 1, 256, 256])\n",
      "✓ Single batch inference successful\n"
     ]
    }
   ],
   "source": [
    "# 단일 배치로 추론 테스트\n",
    "print(\"=== Single Batch Inference Test ===\")\n",
    "with torch.no_grad():\n",
    "    images = sample_batch['image'].to(device)\n",
    "    labels = sample_batch['label'].to(device)\n",
    "    \n",
    "    print(f\"Input shape: {images.shape}\")\n",
    "    print(f\"Input device: {images.device}\")\n",
    "    \n",
    "    # 모델 추론\n",
    "    outputs = loaded_model(images)\n",
    "    \n",
    "    print(f\"Output type: {type(outputs)}\")\n",
    "    if isinstance(outputs, dict):\n",
    "        print(f\"Output keys: {list(outputs.keys())}\")\n",
    "        if 'pred_score' in outputs:\n",
    "            print(f\"Prediction scores shape: {outputs['pred_score'].shape}\")\n",
    "            print(f\"Score range: [{outputs['pred_score'].min():.6f}, {outputs['pred_score'].max():.6f}]\")\n",
    "            print(f\"Sample scores: {outputs['pred_score'][:5].cpu().numpy()}\")\n",
    "        if 'anomaly_map' in outputs:\n",
    "            print(f\"Anomaly maps shape: {outputs['anomaly_map'].shape}\")\n",
    "    else:\n",
    "        print(f\"Legacy output shape: {outputs.shape}\")\n",
    "\n",
    "print(\"✓ Single batch inference successful\")"
   ]
  },
  {
   "cell_type": "markdown",
   "id": "babfadd1",
   "metadata": {},
   "source": [
    "### 6. Trainer 생성 및 기본 메트릭 평가"
   ]
  },
  {
   "cell_type": "code",
   "execution_count": 6,
   "id": "775c81f4",
   "metadata": {},
   "outputs": [
    {
     "name": "stdout",
     "output_type": "stream",
     "text": [
      "✓ Trainer created for evaluation\n",
      "\n",
      "=== Running Full Evaluation ===\n"
     ]
    },
    {
     "name": "stderr",
     "output_type": "stream",
     "text": [
      "                                                                 \r"
     ]
    },
    {
     "name": "stdout",
     "output_type": "stream",
     "text": [
      "\n",
      "==================================================\n",
      "EVALUATION RESULTS\n",
      "==================================================\n",
      "AUROC:      0.9735\n",
      "AUPR:       0.9836\n",
      "Threshold:  0.239359\n",
      "------------------------------\n",
      "Accuracy:   0.5833\n",
      "Precision:  0.5833\n",
      "Recall:     1.0000\n",
      "F1-Score:   0.7368\n"
     ]
    }
   ],
   "source": [
    "# Modeler 및 Trainer 생성 (평가용)\n",
    "modeler = build_modeler(config.modeler_type, model=loaded_model, loss_fn=None, metrics={})\n",
    "trainer = build_trainer(config.trainer_type, modeler=modeler, optimizer=None)\n",
    "\n",
    "print(\"✓ Trainer created for evaluation\")\n",
    "\n",
    "# 전체 테스트셋 평가 실행\n",
    "print(\"\\n=== Running Full Evaluation ===\")\n",
    "results = trainer.test(test_loader)\n",
    "\n",
    "# 기본 메트릭 출력\n",
    "print(\"\\n\" + \"=\"*50)\n",
    "print(\"EVALUATION RESULTS\")\n",
    "print(\"=\"*50)\n",
    "print(f\"AUROC:      {results['auroc']:.4f}\")\n",
    "print(f\"AUPR:       {results['aupr']:.4f}\")\n",
    "print(f\"Threshold:  {results['threshold']:.6f}\")\n",
    "print(\"-\"*30)\n",
    "print(f\"Accuracy:   {results['accuracy']:.4f}\")\n",
    "print(f\"Precision:  {results['precision']:.4f}\")\n",
    "print(f\"Recall:     {results['recall']:.4f}\")\n",
    "print(f\"F1-Score:   {results['f1']:.4f}\")"
   ]
  },
  {
   "cell_type": "markdown",
   "id": "27ad1d6c",
   "metadata": {},
   "source": [
    "### 7. 예측값 추출 및 기본 분석"
   ]
  },
  {
   "cell_type": "code",
   "execution_count": 7,
   "id": "3b8374b4",
   "metadata": {},
   "outputs": [
    {
     "name": "stdout",
     "output_type": "stream",
     "text": [
      "=== Extracting Predictions ===\n"
     ]
    },
    {
     "name": "stderr",
     "output_type": "stream",
     "text": [
      "                                                                    "
     ]
    },
    {
     "name": "stdout",
     "output_type": "stream",
     "text": [
      "✓ Predictions extracted\n",
      "Prediction scores shape: torch.Size([108, 1])\n",
      "Labels shape: torch.Size([108])\n",
      "Anomaly maps shape: torch.Size([108, 1, 256, 256])\n",
      "\n",
      "Dataset composition:\n",
      "  Normal samples:  45 (41.7%)\n",
      "  Anomaly samples: 63 (58.3%)\n",
      "  Total samples:   108\n"
     ]
    },
    {
     "name": "stderr",
     "output_type": "stream",
     "text": [
      "\r"
     ]
    }
   ],
   "source": [
    "# 전체 예측값 추출\n",
    "print(\"=== Extracting Predictions ===\")\n",
    "predictions = trainer.predict(test_loader)\n",
    "\n",
    "gt_labels = predictions['labels']\n",
    "pred_scores = predictions['pred_scores']\n",
    "anomaly_maps = predictions['anomaly_maps']\n",
    "\n",
    "print(f\"✓ Predictions extracted\")\n",
    "print(f\"Prediction scores shape: {pred_scores.shape}\")\n",
    "print(f\"Labels shape: {gt_labels.shape}\")\n",
    "print(f\"Anomaly maps shape: {anomaly_maps.shape}\")\n",
    "\n",
    "# 데이터셋 구성 확인\n",
    "normal_count = (gt_labels == 0).sum().item()\n",
    "anomaly_count = (gt_labels == 1).sum().item()\n",
    "total_count = len(gt_labels)\n",
    "\n",
    "print(f\"\\nDataset composition:\")\n",
    "print(f\"  Normal samples:  {normal_count} ({normal_count/total_count*100:.1f}%)\")\n",
    "print(f\"  Anomaly samples: {anomaly_count} ({anomaly_count/total_count*100:.1f}%)\")\n",
    "print(f\"  Total samples:   {total_count}\")"
   ]
  },
  {
   "cell_type": "markdown",
   "id": "67b4268b",
   "metadata": {},
   "source": [
    "### 8. 점수 분포 분석"
   ]
  },
  {
   "cell_type": "code",
   "execution_count": 8,
   "id": "a788a09f",
   "metadata": {},
   "outputs": [
    {
     "name": "stdout",
     "output_type": "stream",
     "text": [
      "=== Score Distribution Analysis ===\n",
      "Normal samples statistics:\n",
      "  Count: 45\n",
      "  Mean:  0.243938\n",
      "  Std:   0.011802\n",
      "  Min:   0.239359\n",
      "  Max:   0.293134\n",
      "\n",
      "Anomaly samples statistics:\n",
      "  Count: 63\n",
      "  Mean:  0.985593\n",
      "  Std:   2.625549\n",
      "  Min:   0.239382\n",
      "  Max:   16.867561\n",
      "\n",
      "Score separation ratio: 0.2812\n"
     ]
    }
   ],
   "source": [
    "# 점수 분포 상세 분석\n",
    "print(\"=== Score Distribution Analysis ===\")\n",
    "\n",
    "normal_mask = gt_labels == 0\n",
    "anomaly_mask = gt_labels == 1\n",
    "normal_scores = pred_scores[normal_mask]\n",
    "anomaly_scores = pred_scores[anomaly_mask]\n",
    "\n",
    "def safe_format(value, format_spec=\".6f\"):\n",
    "    \"\"\"Tensor나 스칼라 값을 안전하게 포매팅\"\"\"\n",
    "    if torch.is_tensor(value):\n",
    "        return f\"{value.item():{format_spec}}\"\n",
    "    else:\n",
    "        return f\"{value:{format_spec}}\"\n",
    "\n",
    "print(f\"Normal samples statistics:\")\n",
    "print(f\"  Count: {len(normal_scores)}\")\n",
    "print(f\"  Mean:  {safe_format(normal_scores.mean())}\")\n",
    "print(f\"  Std:   {safe_format(normal_scores.std())}\")\n",
    "print(f\"  Min:   {safe_format(normal_scores.min())}\")\n",
    "print(f\"  Max:   {safe_format(normal_scores.max())}\")\n",
    "\n",
    "print(f\"\\nAnomaly samples statistics:\")\n",
    "print(f\"  Count: {len(anomaly_scores)}\")\n",
    "print(f\"  Mean:  {safe_format(anomaly_scores.mean())}\")\n",
    "print(f\"  Std:   {safe_format(anomaly_scores.std())}\")\n",
    "print(f\"  Min:   {safe_format(anomaly_scores.min())}\")\n",
    "print(f\"  Max:   {safe_format(anomaly_scores.max())}\")\n",
    "\n",
    "# 분리도 계산\n",
    "score_separation = (anomaly_scores.mean() - normal_scores.mean()) / (normal_scores.std() + anomaly_scores.std())\n",
    "print(f\"\\nScore separation ratio: {safe_format(score_separation, '.4f')}\")"
   ]
  },
  {
   "cell_type": "markdown",
   "id": "fde54125",
   "metadata": {},
   "source": [
    "### 9. 혼동 행렬 및 오분류 분석"
   ]
  },
  {
   "cell_type": "code",
   "execution_count": 9,
   "id": "7287d7b5",
   "metadata": {},
   "outputs": [
    {
     "name": "stdout",
     "output_type": "stream",
     "text": [
      "=== Confusion Matrix Analysis ===\n",
      "Confusion Matrix:\n",
      "                Predicted\n",
      "               Normal  Anomaly\n",
      "Actual Normal      0     4860\n",
      "       Anomaly     0     6804\n",
      "\n",
      "Classification breakdown:\n",
      "True Positives:  6804 (10800.0% of anomalies)\n",
      "True Negatives:  0 (0.0% of normals)\n",
      "False Positives: 4860 (10800.0% of normals)\n",
      "False Negatives: 0 (0.0% of anomalies)\n",
      "\n",
      "False Positives (4860 samples):\n",
      "  Score range: [0.239359, 16.867561]\n",
      "  Mean score:  0.676570\n"
     ]
    }
   ],
   "source": [
    "# 혼동 행렬 분석\n",
    "print(\"=== Confusion Matrix Analysis ===\")\n",
    "\n",
    "threshold = results['threshold']\n",
    "binary_preds = (pred_scores >= threshold).float()\n",
    "\n",
    "tp = ((binary_preds == 1) & (gt_labels == 1)).sum().item()\n",
    "tn = ((binary_preds == 0) & (gt_labels == 0)).sum().item()\n",
    "fp = ((binary_preds == 1) & (gt_labels == 0)).sum().item()\n",
    "fn = ((binary_preds == 0) & (gt_labels == 1)).sum().item()\n",
    "\n",
    "print(\"Confusion Matrix:\")\n",
    "print(f\"                Predicted\")\n",
    "print(f\"               Normal  Anomaly\")\n",
    "print(f\"Actual Normal    {tn:3d}     {fp:3d}\")\n",
    "print(f\"       Anomaly   {fn:3d}     {tp:3d}\")\n",
    "\n",
    "print(f\"\\nClassification breakdown:\")\n",
    "print(f\"True Positives:  {tp} ({tp/anomaly_count*100:.1f}% of anomalies)\")\n",
    "print(f\"True Negatives:  {tn} ({tn/normal_count*100:.1f}% of normals)\")\n",
    "print(f\"False Positives: {fp} ({fp/normal_count*100:.1f}% of normals)\")\n",
    "print(f\"False Negatives: {fn} ({fn/anomaly_count*100:.1f}% of anomalies)\")\n",
    "\n",
    "# 오분류 샘플 분석\n",
    "if fp > 0:\n",
    "    fp_indices = torch.where((binary_preds == 1) & (gt_labels == 0))[0]\n",
    "    fp_scores = pred_scores[fp_indices]\n",
    "    print(f\"\\nFalse Positives ({fp} samples):\")\n",
    "    print(f\"  Score range: [{safe_format(fp_scores.min())}, {safe_format(fp_scores.max())}]\")\n",
    "    print(f\"  Mean score:  {safe_format(fp_scores.mean())}\")\n",
    "\n",
    "if fn > 0:\n",
    "    fn_indices = torch.where((binary_preds == 0) & (gt_labels == 1))[0]\n",
    "    fn_scores = pred_scores[fn_indices]\n",
    "    print(f\"\\nFalse Negatives ({fn} samples):\")\n",
    "    print(f\"  Score range: [{safe_format(fn_scores.min())}, {safe_format(fn_scores.max())}]\")\n",
    "    print(f\"  Mean score:  {safe_format(fn_scores.mean())}\")"
   ]
  },
  {
   "cell_type": "markdown",
   "id": "3847666e",
   "metadata": {},
   "source": [
    "### 10. 상위/하위 샘플 분석"
   ]
  },
  {
   "cell_type": "code",
   "execution_count": 10,
   "id": "5f0f447c",
   "metadata": {},
   "outputs": [
    {
     "name": "stdout",
     "output_type": "stream",
     "text": [
      "=== Top/Bottom Samples Analysis ===\n",
      "Most confident normal samples (lowest scores):\n",
      "  #1: Index 0, Score: 0.239383\n",
      "  #2: Index 0, Score: 0.239383\n",
      "  #3: Index 0, Score: 0.239383\n",
      "  #4: Index 0, Score: 0.239383\n",
      "  #5: Index 0, Score: 0.239383\n",
      "\n",
      "Most confident anomaly samples (highest scores):\n",
      "  #1: Index 45, Score: 0.318967\n",
      "  #2: Index 45, Score: 0.318967\n",
      "  #3: Index 45, Score: 0.318967\n",
      "  #4: Index 45, Score: 0.318967\n",
      "  #5: Index 45, Score: 0.318967\n",
      "\n",
      "Boundary samples (near threshold 0.239359):\n",
      "  Normal samples near boundary: 44\n",
      "  Anomaly samples near boundary: 9\n"
     ]
    }
   ],
   "source": [
    "# 가장 확실한 정상/이상 샘플들 분석\n",
    "print(\"=== Top/Bottom Samples Analysis ===\")\n",
    "\n",
    "# 가장 확실한 정상/이상 샘플들\n",
    "top_normal_indices = torch.argsort(normal_scores)[:5]  # 가장 낮은 점수 5개\n",
    "top_anomaly_indices = torch.argsort(anomaly_scores, descending=True)[:5]  # 가장 높은 점수 5개\n",
    "\n",
    "print(f\"Most confident normal samples (lowest scores):\")\n",
    "for i, idx in enumerate(top_normal_indices):\n",
    "    global_idx = torch.where(normal_mask)[0][idx].item()\n",
    "    score = normal_scores[idx].item()\n",
    "    print(f\"  #{i+1}: Index {global_idx}, Score: {score:.6f}\")\n",
    "\n",
    "print(f\"\\nMost confident anomaly samples (highest scores):\")\n",
    "for i, idx in enumerate(top_anomaly_indices):\n",
    "    global_idx = torch.where(anomaly_mask)[0][idx].item()\n",
    "    score = anomaly_scores[idx].item()\n",
    "    print(f\"  #{i+1}: Index {global_idx}, Score: {score:.6f}\")\n",
    "\n",
    "# 경계선 근처 샘플들\n",
    "threshold_val = threshold.item() if torch.is_tensor(threshold) else threshold\n",
    "boundary_normal = normal_scores[(normal_scores >= threshold_val * 0.8) & (normal_scores <= threshold_val * 1.2)]\n",
    "boundary_anomaly = anomaly_scores[(anomaly_scores >= threshold_val * 0.8) & (anomaly_scores <= threshold_val * 1.2)]\n",
    "\n",
    "print(f\"\\nBoundary samples (near threshold {threshold_val:.6f}):\")\n",
    "print(f\"  Normal samples near boundary: {len(boundary_normal)}\")\n",
    "print(f\"  Anomaly samples near boundary: {len(boundary_anomaly)}\")"
   ]
  },
  {
   "cell_type": "markdown",
   "id": "a0a005af",
   "metadata": {},
   "source": [
    "### 11. 기본 시각화"
   ]
  },
  {
   "cell_type": "code",
   "execution_count": 11,
   "id": "a1afe695",
   "metadata": {},
   "outputs": [
    {
     "name": "stdout",
     "output_type": "stream",
     "text": [
      "=== Basic Visualization ===\n"
     ]
    },
    {
     "data": {
      "image/png": "[encoded data removed]",
      "text/plain": [
       "<Figure size 1200x400 with 3 Axes>"
      ]
     },
     "metadata": {},
     "output_type": "display_data"
    }
   ],
   "source": [
    "# 기본 분포 시각화\n",
    "print(\"=== Basic Visualization ===\")\n",
    "import matplotlib.pyplot as plt\n",
    "from sklearn.metrics import roc_curve, precision_recall_curve\n",
    "\n",
    "fig, axes = plt.subplots(1, 3, figsize=(12, 4))\n",
    "\n",
    "# 1. 점수 분포 히스토그램\n",
    "bins = np.linspace(pred_scores.min(), pred_scores.max(), 50)\n",
    "axes[0].hist(normal_scores.numpy(), bins=bins, alpha=0.7, label='Normal', color='skyblue', density=True)\n",
    "axes[0].hist(anomaly_scores.numpy(), bins=bins, alpha=0.7, label='Anomaly', color='salmon', density=True)\n",
    "axes[0].axvline(threshold_val, color='red', linestyle='--', linewidth=2, label=f'Threshold: {threshold_val:.4f}')\n",
    "axes[0].set_xlabel('Anomaly Score')\n",
    "axes[0].set_ylabel('Density')\n",
    "axes[0].set_title('Score Distribution')\n",
    "axes[0].legend()\n",
    "axes[0].grid(True, alpha=0.3)\n",
    "\n",
    "# 2. ROC 곡선\n",
    "fpr, tpr, _ = roc_curve(gt_labels.numpy(), pred_scores.numpy())\n",
    "axes[1].plot(fpr, tpr, linewidth=2, color='blue', label=f'ROC (AUC = {results[\"auroc\"]:.4f})')\n",
    "axes[1].plot([0, 1], [0, 1], 'k--', alpha=0.5)\n",
    "axes[1].set_xlabel('False Positive Rate')\n",
    "axes[1].set_ylabel('True Positive Rate')\n",
    "axes[1].set_title('ROC Curve')\n",
    "axes[1].legend()\n",
    "axes[1].grid(True, alpha=0.3)\n",
    "\n",
    "# 3. Precision-Recall 곡선\n",
    "precision_curve, recall_curve, _ = precision_recall_curve(gt_labels.numpy(), pred_scores.numpy())\n",
    "axes[2].plot(recall_curve, precision_curve, linewidth=2, color='green', label=f'PR (AUC = {results[\"aupr\"]:.4f})')\n",
    "axes[2].set_xlabel('Recall')\n",
    "axes[2].set_ylabel('Precision')\n",
    "axes[2].set_title('Precision-Recall Curve')\n",
    "axes[2].legend()\n",
    "axes[2].grid(True, alpha=0.3)\n",
    "\n",
    "plt.tight_layout()\n",
    "plt.show()"
   ]
  },
  {
   "cell_type": "markdown",
   "id": "f8d38617",
   "metadata": {},
   "source": [
    "### 12. 저장된 결과와 비교"
   ]
  },
  {
   "cell_type": "code",
   "execution_count": 12,
   "id": "fff1bba7",
   "metadata": {},
   "outputs": [
    {
     "name": "stdout",
     "output_type": "stream",
     "text": [
      "=== Comparison with Saved Results ===\n",
      "Saved vs Current Results:\n",
      "     auroc: 0.9735 vs 0.9735 (diff: 0.000000)\n",
      "      aupr: 0.9836 vs 0.9836 (diff: 0.000000)\n",
      "        f1: 0.7368 vs 0.7368 (diff: 0.000000)\n",
      "  accuracy: 0.5833 vs 0.5833 (diff: 0.000000)\n",
      " precision: 0.5833 vs 0.5833 (diff: 0.000000)\n",
      "    recall: 1.0000 vs 1.0000 (diff: 0.000000)\n",
      "\n",
      "✓ Results match saved values (difference < 0.001)\n"
     ]
    }
   ],
   "source": [
    "# 저장된 결과와 비교\n",
    "print(\"=== Comparison with Saved Results ===\")\n",
    "import glob\n",
    "\n",
    "results_files = glob.glob(os.path.join(experiment_dir, \"results_*.json\"))\n",
    "if results_files:\n",
    "    latest_results_file = max(results_files, key=os.path.getctime)\n",
    "    \n",
    "    with open(latest_results_file, 'r') as f:\n",
    "        saved_results = json.load(f)\n",
    "    \n",
    "    if 'results' in saved_results:\n",
    "        saved_metrics = saved_results['results']\n",
    "        print(\"Saved vs Current Results:\")\n",
    "        \n",
    "        metrics_to_compare = ['auroc', 'aupr', 'f1', 'accuracy', 'precision', 'recall']\n",
    "        for metric in metrics_to_compare:\n",
    "            if metric in saved_metrics and metric in results:\n",
    "                saved_val = saved_metrics[metric]\n",
    "                current_val = results[metric]\n",
    "                diff = abs(saved_val - current_val)\n",
    "                print(f\"{metric:>10}: {saved_val:.4f} vs {current_val:.4f} (diff: {diff:.6f})\")\n",
    "        \n",
    "        # 전체적인 일치성 확인\n",
    "        auroc_diff = abs(saved_metrics.get('auroc', 0) - results['auroc'])\n",
    "        if auroc_diff < 0.001:\n",
    "            print(\"\\n✓ Results match saved values (difference < 0.001)\")\n",
    "        else:\n",
    "            print(f\"\\n⚠ Results differ from saved values (AUROC diff: {auroc_diff:.6f})\")\n",
    "    else:\n",
    "        print(\"No comparison data available in saved results\")\n",
    "else:\n",
    "    print(\"No saved results files found\")"
   ]
  },
  {
   "cell_type": "markdown",
   "id": "0a0722b8",
   "metadata": {},
   "source": [
    "### 13. 요약 및 최종 리포트"
   ]
  },
  {
   "cell_type": "code",
   "execution_count": 13,
   "id": "f39b16a9",
   "metadata": {},
   "outputs": [
    {
     "name": "stdout",
     "output_type": "stream",
     "text": [
      "\n",
      "============================================================\n",
      "FINAL EVALUATION SUMMARY\n",
      "============================================================\n",
      "Model: efficientad\n",
      "Dataset: mvtec - ['bottle']\n",
      "Total samples: 108 (Normal: 45, Anomaly: 63)\n",
      "----------------------------------------\n",
      "AUROC:     0.9735\n",
      "AUPR:      0.9836\n",
      "F1-Score:  0.7368\n",
      "Accuracy:  0.5833\n",
      "Threshold: 0.239359\n",
      "----------------------------------------\n",
      "Classification Results:\n",
      "  Correctly classified: 6804/108 (6300.0%)\n",
      "  Missed anomalies:     0/63 (0.0%)\n",
      "  False alarms:         4860/45 (10800.0%)\n",
      "============================================================\n",
      "\n",
      "🏆 Performance Grade: Excellent\n",
      "✓ Evaluation completed successfully!\n"
     ]
    }
   ],
   "source": [
    "# 최종 요약 리포트\n",
    "print(\"\\n\" + \"=\"*60)\n",
    "print(\"FINAL EVALUATION SUMMARY\")\n",
    "print(\"=\"*60)\n",
    "print(f\"Model: {config.model_type}\")\n",
    "print(f\"Dataset: {config.dataloader_type} - {config.dataloader_params.get('categories', 'All')}\")\n",
    "print(f\"Total samples: {total_count} (Normal: {normal_count}, Anomaly: {anomaly_count})\")\n",
    "print(\"-\"*40)\n",
    "print(f\"AUROC:     {results['auroc']:.4f}\")\n",
    "print(f\"AUPR:      {results['aupr']:.4f}\")\n",
    "print(f\"F1-Score:  {results['f1']:.4f}\")\n",
    "print(f\"Accuracy:  {results['accuracy']:.4f}\")\n",
    "print(f\"Threshold: {results['threshold']:.6f}\")\n",
    "print(\"-\"*40)\n",
    "print(f\"Classification Results:\")\n",
    "print(f\"  Correctly classified: {tp + tn}/{total_count} ({(tp + tn)/total_count*100:.1f}%)\")\n",
    "print(f\"  Missed anomalies:     {fn}/{anomaly_count} ({fn/anomaly_count*100:.1f}%)\")\n",
    "print(f\"  False alarms:         {fp}/{normal_count} ({fp/normal_count*100:.1f}%)\")\n",
    "print(\"=\"*60)\n",
    "\n",
    "# 성능 등급 평가\n",
    "if results['auroc'] >= 0.9:\n",
    "    performance_grade = \"Excellent\"\n",
    "elif results['auroc'] >= 0.8:\n",
    "    performance_grade = \"Good\"\n",
    "elif results['auroc'] >= 0.7:\n",
    "    performance_grade = \"Fair\"\n",
    "else:\n",
    "    performance_grade = \"Poor\"\n",
    "\n",
    "print(f\"\\n🏆 Performance Grade: {performance_grade}\")\n",
    "print(f\"✓ Evaluation completed successfully!\")"
   ]
  }
 ],
 "metadata": {
  "kernelspec": {
   "display_name": "pytorch_env",
   "language": "python",
   "name": "python3"
  },
  "language_info": {
   "codemirror_mode": {
    "name": "ipython",
    "version": 3
   },
   "file_extension": ".py",
   "mimetype": "text/x-python",
   "name": "python",
   "nbconvert_exporter": "python",
   "pygments_lexer": "ipython3",
   "version": "3.10.16"
  }
 },
 "nbformat": 4,
 "nbformat_minor": 5
}
