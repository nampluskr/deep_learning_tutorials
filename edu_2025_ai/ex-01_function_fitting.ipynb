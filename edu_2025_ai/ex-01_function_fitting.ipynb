{
 "cells": [
  {
   "cell_type": "code",
   "execution_count": 8,
   "id": "d5c82e4e",
   "metadata": {},
   "outputs": [],
   "source": [
    "import numpy as np\n",
    "import matplotlib.pyplot as plt"
   ]
  },
  {
   "cell_type": "code",
   "execution_count": 9,
   "id": "70785e12",
   "metadata": {},
   "outputs": [
    {
     "data": {
      "image/png": "[encoded data removed]",
      "text/plain": [
       "<Figure size 640x480 with 1 Axes>"
      ]
     },
     "metadata": {},
     "output_type": "display_data"
    }
   ],
   "source": [
    "def model(x, a, b, c, d):\n",
    "    return a * x**3 + b * x**2 + c * x + d\n",
    "\n",
    "n_samples = 51\n",
    "a, b, c, d = 2, -3, -1, 0\n",
    "\n",
    "x = np.linspace(-1, 2, n_samples)\n",
    "y = model(x, a, b, c, d)\n",
    "\n",
    "np.random.seed(42)\n",
    "x_data = x + np.random.randn(n_samples) * 0.05\n",
    "y_data = y + np.random.randn(n_samples) * 0.1\n",
    "\n",
    "plt.plot(x_data, y_data, 'ko', ms=5, label='Noisy training data')\n",
    "plt.plot(x, y, 'r-', label='Exact function')\n",
    "plt.legend()\n",
    "plt.show()"
   ]
  },
  {
   "cell_type": "markdown",
   "id": "bf0d683d",
   "metadata": {},
   "source": [
    "### Polynomial Model"
   ]
  },
  {
   "cell_type": "code",
   "execution_count": 10,
   "id": "16cc5a1c",
   "metadata": {},
   "outputs": [
    {
     "data": {
      "text/plain": [
       "array([ 2.00789264, -3.04407624, -0.92424109, -0.02220862])"
      ]
     },
     "execution_count": 10,
     "metadata": {},
     "output_type": "execute_result"
    }
   ],
   "source": [
    "# Analytical Solution\n",
    "x, y = x_data, y_data\n",
    "X = np.vstack([x**3, x**2, x, np.ones_like(x)]).T\n",
    "\n",
    "# Normal Equation: (X^T X)^(-1) X^T y\n",
    "params = np.linalg.inv(X.T.dot(X)).dot(X.T).dot(y)\n",
    "params"
   ]
  },
  {
   "cell_type": "code",
   "execution_count": 11,
   "id": "b4e1ab62",
   "metadata": {},
   "outputs": [
    {
     "name": "stdout",
     "output_type": "stream",
     "text": [
      "Epoch[ 1000/10000] loss=0.101, score=0.919, a=1.566, b=-2.264, c=-0.739, d=-0.362\n",
      "Epoch[ 2000/10000] loss=0.044, score=0.964, a=1.886, b=-2.827, c=-0.874, d=-0.117\n",
      "Epoch[ 3000/10000] loss=0.040, score=0.968, a=1.974, b=-2.984, c=-0.910, d=-0.048\n",
      "Epoch[ 4000/10000] loss=0.039, score=0.968, a=1.999, b=-3.027, c=-0.920, d=-0.029\n",
      "Epoch[ 5000/10000] loss=0.039, score=0.968, a=2.005, b=-3.039, c=-0.923, d=-0.024\n",
      "Epoch[ 6000/10000] loss=0.039, score=0.968, a=2.007, b=-3.043, c=-0.924, d=-0.023\n",
      "Epoch[ 7000/10000] loss=0.039, score=0.968, a=2.008, b=-3.044, c=-0.924, d=-0.022\n",
      "Epoch[ 8000/10000] loss=0.039, score=0.968, a=2.008, b=-3.044, c=-0.924, d=-0.022\n",
      "Epoch[ 9000/10000] loss=0.039, score=0.968, a=2.008, b=-3.044, c=-0.924, d=-0.022\n",
      "Epoch[10000/10000] loss=0.039, score=0.968, a=2.008, b=-3.044, c=-0.924, d=-0.022\n"
     ]
    }
   ],
   "source": [
    "def r2_score(y_true, y_pred):\n",
    "    sst = np.sum((y_true - y_true.mean())**2)    # Total sum of squares\n",
    "    ssr = np.sum((y_true - y_pred)**2)           # Residual sum of squares\n",
    "    return 1 - (ssr / sst)\n",
    "\n",
    "learning_rate = 0.01\n",
    "n_epoches = 10000\n",
    "\n",
    "a, b, c, d = 0.1, 0.1, 0.1, 0.1\n",
    "x, y = x_data, y_data\n",
    "\n",
    "for epoch in range(1, n_epoches + 1):\n",
    "    y_pred = model(x, a, b, c, d)\n",
    "    loss = np.mean((y - y_pred)**2)\n",
    "    score = r2_score(y, y_pred)\n",
    "\n",
    "    grad_a = -2 * np.mean(x**3 * (y - y_pred))\n",
    "    grad_b = -2 * np.mean(x**2 * (y - y_pred))\n",
    "    grad_c = -2 * np.mean(x * (y - y_pred))\n",
    "    grad_d = -2 * np.mean(y - y_pred)\n",
    "\n",
    "    a -= learning_rate * grad_a\n",
    "    b -= learning_rate * grad_b\n",
    "    c -= learning_rate * grad_c\n",
    "    d -= learning_rate * grad_d\n",
    "\n",
    "    if epoch % (n_epoches // 10) == 0:\n",
    "        print(f\"Epoch[{epoch:5d}/{n_epoches}] loss={loss:.3f}, score={score:.3f}, a={a:.3f}, b={b:.3f}, c={c:.3f}, d={d:.3f}\")"
   ]
  },
  {
   "cell_type": "markdown",
   "id": "179b1752",
   "metadata": {},
   "source": [
    "### Neural Network Model - numpy"
   ]
  },
  {
   "cell_type": "code",
   "execution_count": 40,
   "id": "55a21217",
   "metadata": {},
   "outputs": [
    {
     "name": "stdout",
     "output_type": "stream",
     "text": [
      "(51, 1) (51, 1)\n"
     ]
    }
   ],
   "source": [
    "def sigmoid(x):\n",
    "    return 1 / (1 + np.exp(-x))\n",
    "\n",
    "def identity(x):\n",
    "    return x\n",
    "\n",
    "def r2_score(y_true, y_pred):\n",
    "    sst = np.sum((y_true - y_true.mean())**2)    # Total sum of squares\n",
    "    ssr = np.sum((y_true - y_pred)**2)           # Residual sum of squares\n",
    "    return 1 - (ssr / sst)\n",
    "\n",
    "## Preprocess\n",
    "x, y = x_data.reshape(-1, 1), y_data.reshape(-1, 1)\n",
    "print(x.shape, y.shape)\n",
    "\n",
    "## Model - 2-layer MLP\n",
    "np.random.seed(42)\n",
    "\n",
    "w1 = np.random.randn(1, 50)     # weight of 1st layer\n",
    "b1 = np.zeros(50)               # bias of 1st layer\n",
    "w2 = np.random.randn(50, 1)     # weight of 2nd layer\n",
    "b2 = np.zeros(1)                # bias of 2nd layer"
   ]
  },
  {
   "cell_type": "code",
   "execution_count": 41,
   "id": "9e357ebc",
   "metadata": {},
   "outputs": [
    {
     "name": "stdout",
     "output_type": "stream",
     "text": [
      "[ 1000/10000] loss: 0.150 score: 0.842\n",
      "[ 2000/10000] loss: 0.078 score: 0.926\n",
      "[ 3000/10000] loss: 0.051 score: 0.954\n",
      "[ 4000/10000] loss: 0.042 score: 0.964\n",
      "[ 5000/10000] loss: 0.039 score: 0.967\n",
      "[ 6000/10000] loss: 0.038 score: 0.968\n",
      "[ 7000/10000] loss: 0.038 score: 0.968\n",
      "[ 8000/10000] loss: 0.037 score: 0.969\n",
      "[ 9000/10000] loss: 0.037 score: 0.969\n",
      "[10000/10000] loss: 0.037 score: 0.969\n"
     ]
    }
   ],
   "source": [
    "n_epochs = 10000\n",
    "learning_rate = 0.1\n",
    "\n",
    "for epoch in range(1, n_epochs + 1):\n",
    "    # Forward propagation\n",
    "    a0 = x\n",
    "    z1 = np.dot(a0, w1) + b1\n",
    "    a1 = sigmoid(z1)\n",
    "    z2 = np.dot(a1, w2) + b2\n",
    "    a2 = identity(z2)\n",
    "\n",
    "    loss = np.mean((a2 - y)**2)\n",
    "    score = r2_score(a2, y)\n",
    "\n",
    "    # Backward propagation\n",
    "    grad_a2 = 2 * (a2 - y) / len(y)\n",
    "    grad_z2 = grad_a2 * 1\n",
    "    grad_a1 = np.dot(grad_z2, w2.T)\n",
    "    grad_z1 = grad_a1 * a1 * (1 - a1)\n",
    "    grad_a0 = np.dot(grad_z1, w1.T)\n",
    "\n",
    "    grad_w2 = np.dot(a1.T, grad_z2)\n",
    "    grad_b2 = np.sum(grad_z2, axis=0)\n",
    "    grad_w1 = np.dot(a0.T, grad_z1)\n",
    "    grad_b1 = np.sum(grad_z1, axis=0)\n",
    "\n",
    "    # Update weights and biases\n",
    "    w1 -= learning_rate * grad_w1\n",
    "    b1 -= learning_rate * grad_b1\n",
    "    w2 -= learning_rate * grad_w2\n",
    "    b2 -= learning_rate * grad_b2\n",
    "\n",
    "    if epoch % (n_epochs // 10) == 0:\n",
    "        print(f\"[{epoch:5d}/{n_epochs}] loss: {loss.item():.3f} score: {score:.3f}\")"
   ]
  },
  {
   "cell_type": "markdown",
   "id": "c19260d3",
   "metadata": {},
   "source": [
    "### Neural Network Model - pytorch"
   ]
  },
  {
   "cell_type": "code",
   "execution_count": 43,
   "id": "76c74b91",
   "metadata": {},
   "outputs": [],
   "source": [
    "import torch\n",
    "import torch.nn as nn\n",
    "import torch.optim as optim\n",
    "\n",
    "class MLP(nn.Module):\n",
    "    \"\"\" 2-layer MLP with sigmoid activation function \"\"\"\n",
    "    def __init__(self):\n",
    "        super().__init__()\n",
    "        self.layers = nn.Sequential(\n",
    "            nn.Linear(1, 50),\n",
    "            nn.Sigmoid(),\n",
    "            nn.Linear(50, 1)\n",
    "        )\n",
    "\n",
    "    def forward(self, x):\n",
    "        return self.layers(x)\n",
    "    \n",
    "def r2_score(y_true, y_pred):\n",
    "    sst = torch.sum((y_true - y_true.mean())**2)    # Total sum of squares\n",
    "    ssr = torch.sum((y_true - y_pred)**2)           # Residual sum of squares\n",
    "    return 1 - (ssr / sst)    "
   ]
  },
  {
   "cell_type": "code",
   "execution_count": 44,
   "id": "b2dd0c42",
   "metadata": {},
   "outputs": [
    {
     "name": "stdout",
     "output_type": "stream",
     "text": [
      "Epoch[ 1000/10000] loss=1.154, score=0.067\n",
      "Epoch[ 2000/10000] loss=0.274, score=0.778\n",
      "Epoch[ 3000/10000] loss=0.130, score=0.895\n",
      "Epoch[ 4000/10000] loss=0.079, score=0.936\n",
      "Epoch[ 5000/10000] loss=0.057, score=0.954\n",
      "Epoch[ 6000/10000] loss=0.047, score=0.962\n",
      "Epoch[ 7000/10000] loss=0.042, score=0.966\n",
      "Epoch[ 8000/10000] loss=0.040, score=0.968\n",
      "Epoch[ 9000/10000] loss=0.038, score=0.969\n",
      "Epoch[10000/10000] loss=0.038, score=0.970\n"
     ]
    }
   ],
   "source": [
    "model = MLP()\n",
    "optimizer = optim.SGD(model.parameters(), lr=0.1)\n",
    "loss_fn = nn.MSELoss()\n",
    "\n",
    "x_tensor = torch.tensor(x_data).float().view(-1, 1)\n",
    "y_tensor = torch.tensor(y_data).float().view(-1, 1)\n",
    "\n",
    "n_epoches = 10000\n",
    "for epoch in range(1, n_epoches + 1):\n",
    "    y_pred = model(x_tensor)\n",
    "    loss = loss_fn(y_pred, y_tensor)\n",
    "    score = r2_score(y_tensor, y_pred)\n",
    "\n",
    "    loss.backward()\n",
    "    optimizer.step()\n",
    "    optimizer.zero_grad()\n",
    "\n",
    "    if epoch % (n_epoches // 10) == 0:\n",
    "        print(f\"Epoch[{epoch:5d}/{n_epoches}] loss={loss.item():.3f}, score={score.item():.3f}\")"
   ]
  },
  {
   "cell_type": "code",
   "execution_count": null,
   "id": "aed9388e",
   "metadata": {},
   "outputs": [],
   "source": []
  }
 ],
 "metadata": {
  "kernelspec": {
   "display_name": "pytorch_env",
   "language": "python",
   "name": "python3"
  },
  "language_info": {
   "codemirror_mode": {
    "name": "ipython",
    "version": 3
   },
   "file_extension": ".py",
   "mimetype": "text/x-python",
   "name": "python",
   "nbconvert_exporter": "python",
   "pygments_lexer": "ipython3",
   "version": "3.10.16"
  }
 },
 "nbformat": 4,
 "nbformat_minor": 5
}
