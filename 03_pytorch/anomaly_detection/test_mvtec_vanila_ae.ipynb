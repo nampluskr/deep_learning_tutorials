{
 "cells": [
  {
   "cell_type": "code",
   "execution_count": 1,
   "id": "886aa4ec",
   "metadata": {},
   "outputs": [],
   "source": [
    "import mvtec\n",
    "import train\n",
    "import vanila_ae as ae\n",
    "from config import Config, print_config"
   ]
  },
  {
   "cell_type": "code",
   "execution_count": 7,
   "id": "ee3e99a0",
   "metadata": {},
   "outputs": [
    {
     "name": "stdout",
     "output_type": "stream",
     "text": [
      "Configuration:\n",
      "  data_dir: /mnt/d/datasets/mvtec\n",
      "  seed: 42\n",
      "  device: cuda\n",
      "  img_size: 256\n",
      "  normalize: False\n",
      "  category: bottle\n",
      "  batch_size: 32\n",
      "  valid_ratio: 0.2\n",
      "  latent_dim: 512\n",
      "  num_epochs: 10\n",
      "  learning_rate: 0.001\n",
      "  weight_decay: 1e-05\n",
      "  save_models: True\n",
      "  save_results: True\n",
      "  experiment_name: test_mvtec_vanila_ae\n"
     ]
    }
   ],
   "source": [
    "config = Config(\n",
    "    data_dir='/mnt/d/datasets/mvtec',\n",
    "    batch_size=32,\n",
    "    num_epochs=10,\n",
    "    experiment_name='test_mvtec_vanila_ae',\n",
    ")\n",
    "print_config(config)"
   ]
  },
  {
   "cell_type": "code",
   "execution_count": 3,
   "id": "21445d4a",
   "metadata": {},
   "outputs": [
    {
     "name": "stdout",
     "output_type": "stream",
     "text": [
      ">> Random Seed: 42\n",
      ">> Device: cuda\n",
      ">> CUDA available: True\n",
      ">> GPU: NVIDIA GeForce GTX 1080 Ti\n",
      "Loaded bottle train: 209 images\n",
      ">> Normal:  209\n",
      ">> Anomaly: 0\n",
      "Loaded bottle test: 83 images\n",
      ">> Normal:  20\n",
      ">> Anomaly: 63\n",
      "Loaded bottle train: 209 images\n",
      ">> Normal:  209\n",
      ">> Anomaly: 0\n"
     ]
    }
   ],
   "source": [
    "train.set_device(seed=config.seed)\n",
    "\n",
    "train_transform, test_transform = mvtec.get_transforms(\n",
    "    img_size=config.img_size,\n",
    "    normalize=config.normalize\n",
    ")\n",
    "\n",
    "train_loader, valid_loader, test_loader = mvtec.get_dataloaders(\n",
    "    data_dir=config.data_dir, \n",
    "    category=config.category, \n",
    "    batch_size=config.batch_size,\n",
    "    train_transform=train_transform, \n",
    "    test_transform=test_transform\n",
    ")"
   ]
  },
  {
   "cell_type": "code",
   "execution_count": 4,
   "id": "9600ba5f",
   "metadata": {},
   "outputs": [
    {
     "name": "stdout",
     "output_type": "stream",
     "text": [
      "Model parameters: 30,979,715\n",
      "Model size: 118.2 MB\n"
     ]
    }
   ],
   "source": [
    "model = ae.VanillaAutoEncoder(latent_dim=config.latent_dim).to(config.device)\n",
    "\n",
    "total_params = sum(p.numel() for p in model.parameters())\n",
    "model_size_mb = total_params * 4 / (1024 * 1024)  # float32 기준\n",
    "\n",
    "print(f\"Model parameters: {total_params:,}\")\n",
    "print(f\"Model size: {model_size_mb:.1f} MB\")"
   ]
  },
  {
   "cell_type": "code",
   "execution_count": 5,
   "id": "375a1c5e",
   "metadata": {},
   "outputs": [
    {
     "name": "stdout",
     "output_type": "stream",
     "text": [
      "Starting training...\n"
     ]
    },
    {
     "name": "stderr",
     "output_type": "stream",
     "text": [
      "                                                                                              \r"
     ]
    },
    {
     "name": "stdout",
     "output_type": "stream",
     "text": [
      "✓ New best model saved (Valid Loss: 0.4532)\n",
      "Epoch  1/10 | Train: Loss=0.3391, Psnr=8.8885, Ssim=0.1758 | Valid: Loss=0.4532, Psnr=5.8848, Ssim=0.0911 | LR=0.001000 | Time: 6.5s\n"
     ]
    },
    {
     "name": "stderr",
     "output_type": "stream",
     "text": [
      "                                                                                              \r"
     ]
    },
    {
     "name": "stdout",
     "output_type": "stream",
     "text": [
      "✓ New best model saved (Valid Loss: 0.3194)\n",
      "Epoch  2/10 | Train: Loss=0.2635, Psnr=9.5313, Ssim=0.3817 | Valid: Loss=0.3194, Psnr=7.8083, Ssim=0.3218 | LR=0.001000 | Time: 6.4s\n"
     ]
    },
    {
     "name": "stderr",
     "output_type": "stream",
     "text": [
      "                                                                                              \r"
     ]
    },
    {
     "name": "stdout",
     "output_type": "stream",
     "text": [
      "Epoch  3/10 | Train: Loss=0.2545, Psnr=9.5641, Ssim=0.4097 | Valid: Loss=0.4430, Psnr=5.5044, Ssim=0.1802 | LR=0.001000 | Time: 3.6s\n"
     ]
    },
    {
     "name": "stderr",
     "output_type": "stream",
     "text": [
      "                                                                                              \r"
     ]
    },
    {
     "name": "stdout",
     "output_type": "stream",
     "text": [
      "Epoch  4/10 | Train: Loss=0.2505, Psnr=9.6181, Ssim=0.4198 | Valid: Loss=0.4242, Psnr=5.7431, Ssim=0.2077 | LR=0.001000 | Time: 6.3s\n"
     ]
    },
    {
     "name": "stderr",
     "output_type": "stream",
     "text": [
      "                                                                                              \r"
     ]
    },
    {
     "name": "stdout",
     "output_type": "stream",
     "text": [
      "Epoch  5/10 | Train: Loss=0.2457, Psnr=9.6912, Ssim=0.4318 | Valid: Loss=0.3914, Psnr=6.3237, Ssim=0.2394 | LR=0.001000 | Time: 6.3s\n"
     ]
    },
    {
     "name": "stderr",
     "output_type": "stream",
     "text": [
      "                                                                                              \r"
     ]
    },
    {
     "name": "stdout",
     "output_type": "stream",
     "text": [
      "✓ New best model saved (Valid Loss: 0.3150)\n",
      "Epoch  6/10 | Train: Loss=0.2426, Psnr=9.8471, Ssim=0.4329 | Valid: Loss=0.3150, Psnr=7.6840, Ssim=0.3478 | LR=0.001000 | Time: 6.1s\n"
     ]
    },
    {
     "name": "stderr",
     "output_type": "stream",
     "text": [
      "                                                                                               \r"
     ]
    },
    {
     "name": "stdout",
     "output_type": "stream",
     "text": [
      "✓ New best model saved (Valid Loss: 0.3075)\n",
      "Epoch  7/10 | Train: Loss=0.2224, Psnr=10.5451, Ssim=0.4647 | Valid: Loss=0.3075, Psnr=7.8667, Ssim=0.3563 | LR=0.001000 | Time: 6.1s\n"
     ]
    },
    {
     "name": "stderr",
     "output_type": "stream",
     "text": [
      "                                                                                               \r"
     ]
    },
    {
     "name": "stdout",
     "output_type": "stream",
     "text": [
      "✓ New best model saved (Valid Loss: 0.2242)\n",
      "Epoch  8/10 | Train: Loss=0.2094, Psnr=10.8107, Ssim=0.4957 | Valid: Loss=0.2242, Psnr=10.2665, Ssim=0.4722 | LR=0.001000 | Time: 3.7s\n"
     ]
    },
    {
     "name": "stderr",
     "output_type": "stream",
     "text": [
      "                                                                                               \r"
     ]
    },
    {
     "name": "stdout",
     "output_type": "stream",
     "text": [
      "Epoch  9/10 | Train: Loss=0.2008, Psnr=10.9932, Ssim=0.5162 | Valid: Loss=0.2347, Psnr=10.5211, Ssim=0.4246 | LR=0.001000 | Time: 6.4s\n"
     ]
    },
    {
     "name": "stderr",
     "output_type": "stream",
     "text": [
      "                                                                                               \r"
     ]
    },
    {
     "name": "stdout",
     "output_type": "stream",
     "text": [
      "✓ New best model saved (Valid Loss: 0.2079)\n",
      "Epoch 10/10 | Train: Loss=0.1969, Psnr=11.1012, Ssim=0.5248 | Valid: Loss=0.2079, Psnr=10.7347, Ssim=0.5040 | LR=0.001000 | Time: 6.2s\n",
      "Training completed. Best validation loss: 0.2079\n"
     ]
    }
   ],
   "source": [
    "trained_model, history = train.train_model(\n",
    "                model, \n",
    "                train_loader, \n",
    "                valid_loader, \n",
    "                num_epochs=config.num_epochs\n",
    ")"
   ]
  },
  {
   "cell_type": "code",
   "execution_count": 6,
   "id": "cff4ee86",
   "metadata": {},
   "outputs": [
    {
     "name": "stdout",
     "output_type": "stream",
     "text": [
      "Evaluating on test set...\n"
     ]
    },
    {
     "name": "stderr",
     "output_type": "stream",
     "text": [
      "Testing: 100%|██████████| 3/3 [00:02<00:00,  1.35it/s]\n"
     ]
    },
    {
     "data": {
      "text/plain": [
       "{'AUROC': np.float64(0.7761904761904762),\n",
       " 'AUPR': np.float64(0.9336877361585658),\n",
       " 'Accuracy': 0.7108433734939759,\n",
       " 'Precision': 0.975609756097561,\n",
       " 'Recall': 0.6349206349206349,\n",
       " 'F1-Score': 0.7692307692307693,\n",
       " 'Threshold': np.float32(0.084059946),\n",
       " 'Normal_Score_Mean': np.float32(0.08314659),\n",
       " 'Normal_Score_Std': np.float32(0.00062507926),\n",
       " 'Anomaly_Score_Mean': np.float32(0.08504777)}"
      ]
     },
     "execution_count": 6,
     "metadata": {},
     "output_type": "execute_result"
    }
   ],
   "source": [
    "results, detailed_results = train.evaluate_model(trained_model, test_loader)\n",
    "\n",
    "results"
   ]
  }
 ],
 "metadata": {
  "kernelspec": {
   "display_name": "pytorch_env",
   "language": "python",
   "name": "python3"
  },
  "language_info": {
   "codemirror_mode": {
    "name": "ipython",
    "version": 3
   },
   "file_extension": ".py",
   "mimetype": "text/x-python",
   "name": "python",
   "nbconvert_exporter": "python",
   "pygments_lexer": "ipython3",
   "version": "3.10.16"
  }
 },
 "nbformat": 4,
 "nbformat_minor": 5
}
