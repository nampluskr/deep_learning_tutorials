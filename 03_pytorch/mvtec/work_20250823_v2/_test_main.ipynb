{
 "cells": [
  {
   "cell_type": "code",
   "execution_count": 1,
   "id": "73431b43",
   "metadata": {},
   "outputs": [
    {
     "data": {
      "text/plain": [
       "Config(data_dir='/mnt/d/datasets/mvtec', categories=['bottle'], img_size=256, batch_size=32, valid_ratio=0.2, seed=42)"
      ]
     },
     "execution_count": 1,
     "metadata": {},
     "output_type": "execute_result"
    }
   ],
   "source": [
    "from dataclasses import dataclass, field\n",
    "from typing import List\n",
    "\n",
    "@dataclass\n",
    "class Config:\n",
    "    # Data configuration\n",
    "    data_dir: str = '/mnt/d/datasets/mvtec'\n",
    "    categories: List[str] = field(default_factory=lambda: ['bottle'])\n",
    "    img_size: int = 256\n",
    "    batch_size: int = 32\n",
    "    valid_ratio: float = 0.2\n",
    "    seed: int = 42\n",
    "\n",
    "config = Config()\n",
    "config"
   ]
  },
  {
   "cell_type": "code",
   "execution_count": null,
   "id": "ba9fd13d",
   "metadata": {},
   "outputs": [
    {
     "name": "stdout",
     "output_type": "stream",
     "text": [
      "Train size: 168\n",
      "Valid size: 41\n",
      "Test  size: 83\n"
     ]
    }
   ],
   "source": [
    "from data import MVTecDataset, get_transforms, get_dataloader, split_train_valid\n",
    "\n",
    "# Get transforms\n",
    "train_transform, test_transform = get_transforms(img_size=config.img_size)\n",
    "\n",
    "# Create datasets\n",
    "train_dataset = MVTecDataset(config.data_dir, config.categories, 'train', transform=train_transform)\n",
    "valid_dataset = MVTecDataset(config.data_dir, config.categories, 'train', transform=test_transform)\n",
    "test_dataset = MVTecDataset(config.data_dir, config.categories, 'test', transform=test_transform)\n",
    "\n",
    "# Split train/valid\n",
    "train_dataset, valid_dataset = split_train_valid(\n",
    "    train_dataset, valid_dataset, \n",
    "    valid_ratio=config.valid_ratio, \n",
    "    seed=config.seed\n",
    ")\n",
    "\n",
    "# Create dataloaders\n",
    "train_loader = get_dataloader(train_dataset, config.batch_size, 'train')\n",
    "valid_loader = get_dataloader(valid_dataset, 16, 'valid')\n",
    "test_loader = get_dataloader(test_dataset, 16, 'test')\n",
    "\n",
    "print(f'Train size: {len(train_loader.dataset)}')\n",
    "print(f'Valid size: {len(valid_loader.dataset)}')\n",
    "print(f'Test  size: {len(test_loader.dataset)}')"
   ]
  },
  {
   "cell_type": "code",
   "execution_count": null,
   "id": "d90f0f73",
   "metadata": {},
   "outputs": [],
   "source": [
    "# Dataloader()"
   ]
  },
  {
   "cell_type": "code",
   "execution_count": 3,
   "id": "29fcc8fa",
   "metadata": {},
   "outputs": [],
   "source": [
    "import torch\n",
    "from modeler import Modeler, get_model, get_loss_fn, get_metric\n",
    "from trainer import Trainer, get_optimizer, get_scheduler, get_logger\n",
    "\n",
    "device = torch.device(\"cuda\" if torch.cuda.is_available() else \"cpu\")"
   ]
  },
  {
   "cell_type": "code",
   "execution_count": null,
   "id": "248271b0",
   "metadata": {},
   "outputs": [
    {
     "name": "stderr",
     "output_type": "stream",
     "text": [
      "Train [1/10]: 100%|██████████| 5/5 [00:03<00:00,  1.35it/s, loss=0.456, ssim=0.208, psnr=9.181]\n",
      "Train [2/10]: 100%|██████████| 5/5 [00:03<00:00,  1.42it/s, loss=0.356, ssim=0.400, psnr=9.538]\n",
      "Train [3/10]: 100%|██████████| 5/5 [00:03<00:00,  1.40it/s, loss=0.345, ssim=0.423, psnr=9.505]\n",
      "Train [4/10]: 100%|██████████| 5/5 [00:03<00:00,  1.39it/s, loss=0.340, ssim=0.430, psnr=9.548]\n",
      "Train [5/10]: 100%|██████████| 5/5 [00:03<00:00,  1.39it/s, loss=0.328, ssim=0.450, psnr=9.729]\n",
      "Train [6/10]: 100%|██████████| 5/5 [00:03<00:00,  1.39it/s, loss=0.318, ssim=0.466, psnr=9.871]\n",
      "Train [7/10]: 100%|██████████| 5/5 [00:03<00:00,  1.41it/s, loss=0.306, ssim=0.483, psnr=10.170]\n",
      "Train [8/10]: 100%|██████████| 5/5 [00:03<00:00,  1.40it/s, loss=0.298, ssim=0.501, psnr=10.170]\n",
      "Train [9/10]: 100%|██████████| 5/5 [00:03<00:00,  1.42it/s, loss=0.291, ssim=0.512, psnr=10.272]\n",
      "Train [10/10]: 100%|██████████| 5/5 [00:03<00:00,  1.40it/s, loss=0.292, ssim=0.511, psnr=10.235]"
     ]
    },
    {
     "name": "stdout",
     "output_type": "stream",
     "text": [
      "Training completed!\n"
     ]
    },
    {
     "name": "stderr",
     "output_type": "stream",
     "text": [
      "\n"
     ]
    }
   ],
   "source": [
    "model = get_model('vanilla_ae', \n",
    "    in_channels=3, out_channels=3, latent_dim=128, img_size=256).to(device)\n",
    "loss_fn = get_loss_fn('combined')\n",
    "metrics = {\"ssim\": get_metric('ssim'), \n",
    "           \"psnr\": get_metric('psnr')}\n",
    "modeler = Modeler(model, loss_fn, metrics)\n",
    "\n",
    "optimizer = get_optimizer(model, \"adamw\", lr=0.001, weight_decay=1e-5)\n",
    "scheduler = get_scheduler(optimizer, \"plateau\")\n",
    "logger = get_logger(\"./experments\")\n",
    "trainer = Trainer(modeler, optimizer, scheduler, logger)\n",
    "\n",
    "history = trainer.fit(train_loader, num_epochs=10, valid_loader=None)"
   ]
  },
  {
   "cell_type": "code",
   "execution_count": null,
   "id": "e018384c",
   "metadata": {},
   "outputs": [
    {
     "name": "stderr",
     "output_type": "stream",
     "text": [
      "Train [1/10]: 100%|██████████| 5/5 [00:03<00:00,  1.41it/s, loss=1.630, ssim=0.056, psnr=8.889]\n",
      "Train [2/10]: 100%|██████████| 5/5 [00:03<00:00,  1.40it/s, loss=0.501, ssim=0.134, psnr=10.166]\n",
      "Train [3/10]: 100%|██████████| 5/5 [00:03<00:00,  1.41it/s, loss=0.213, ssim=0.202, psnr=10.948]\n",
      "Train [4/10]: 100%|██████████| 5/5 [00:03<00:00,  1.39it/s, loss=0.129, ssim=0.254, psnr=11.612]\n",
      "Train [5/10]: 100%|██████████| 5/5 [00:03<00:00,  1.39it/s, loss=0.097, ssim=0.309, psnr=12.090]\n",
      "Train [6/10]: 100%|██████████| 5/5 [00:03<00:00,  1.42it/s, loss=0.078, ssim=0.383, psnr=12.264]\n",
      "Train [7/10]: 100%|██████████| 5/5 [00:03<00:00,  1.38it/s, loss=0.067, ssim=0.454, psnr=12.585]\n",
      "Train [8/10]: 100%|██████████| 5/5 [00:03<00:00,  1.41it/s, loss=0.062, ssim=0.481, psnr=12.654]\n",
      "Train [9/10]: 100%|██████████| 5/5 [00:03<00:00,  1.42it/s, loss=0.055, ssim=0.487, psnr=12.981]\n",
      "Train [10/10]: 100%|██████████| 5/5 [00:03<00:00,  1.40it/s, loss=0.054, ssim=0.486, psnr=12.971]"
     ]
    },
    {
     "name": "stdout",
     "output_type": "stream",
     "text": [
      "Training completed!\n"
     ]
    },
    {
     "name": "stderr",
     "output_type": "stream",
     "text": [
      "\n"
     ]
    }
   ],
   "source": [
    "model = get_model('vae', \n",
    "    in_channels=3, out_channels=3, latent_dim=128, img_size=256).to(device)\n",
    "loss_fn = get_loss_fn('vae')\n",
    "metrics = {\"ssim\": get_metric('ssim'), \n",
    "           \"psnr\": get_metric('psnr')}\n",
    "modeler = Modeler(model, loss_fn, metrics)\n",
    "\n",
    "optimizer = get_optimizer(model, \"adamw\", lr=0.001, weight_decay=1e-5)\n",
    "scheduler = get_scheduler(optimizer, \"plateau\")\n",
    "logger = get_logger(\"./experments\")\n",
    "trainer = Trainer(modeler, optimizer, scheduler, logger)\n",
    "\n",
    "history = trainer.fit(train_loader, num_epochs=10, valid_loader=None)"
   ]
  }
 ],
 "metadata": {
  "kernelspec": {
   "display_name": "pytorch_env",
   "language": "python",
   "name": "python3"
  },
  "language_info": {
   "codemirror_mode": {
    "name": "ipython",
    "version": 3
   },
   "file_extension": ".py",
   "mimetype": "text/x-python",
   "name": "python",
   "nbconvert_exporter": "python",
   "pygments_lexer": "ipython3",
   "version": "3.10.16"
  }
 },
 "nbformat": 4,
 "nbformat_minor": 5
}
