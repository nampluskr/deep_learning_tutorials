{
 "cells": [
  {
   "cell_type": "code",
   "execution_count": 1,
   "id": "73431b43",
   "metadata": {},
   "outputs": [
    {
     "data": {
      "text/plain": [
       "Config(data_dir='/mnt/d/datasets/mvtec', categories=['bottle'], img_size=256, batch_size=32, valid_ratio=0.2, seed=42)"
      ]
     },
     "execution_count": 1,
     "metadata": {},
     "output_type": "execute_result"
    }
   ],
   "source": [
    "from dataclasses import dataclass, field\n",
    "from typing import List\n",
    "\n",
    "@dataclass\n",
    "class Config:\n",
    "    # Data configuration\n",
    "    data_dir: str = '/mnt/d/datasets/mvtec'\n",
    "    categories: List[str] = field(default_factory=lambda: ['bottle'])\n",
    "    img_size: int = 256\n",
    "    batch_size: int = 32\n",
    "    valid_ratio: float = 0.2\n",
    "    seed: int = 42\n",
    "\n",
    "config = Config()\n",
    "config"
   ]
  },
  {
   "cell_type": "code",
   "execution_count": 2,
   "id": "ba9fd13d",
   "metadata": {},
   "outputs": [
    {
     "name": "stdout",
     "output_type": "stream",
     "text": [
      "Train size: 168\n",
      "Valid size: 41\n",
      "Test  size: 83\n"
     ]
    }
   ],
   "source": [
    "from data import MVTecDataset, get_transforms, get_dataloader, split_train_valid\n",
    "\n",
    "# Get transforms\n",
    "train_transform, test_transform = get_transforms(img_size=config.img_size)\n",
    "\n",
    "# Create datasets\n",
    "train_dataset = MVTecDataset(config.data_dir, config.categories, 'train', transform=train_transform)\n",
    "valid_dataset = MVTecDataset(config.data_dir, config.categories, 'train', transform=test_transform)\n",
    "test_dataset = MVTecDataset(config.data_dir, config.categories, 'test', transform=test_transform)\n",
    "\n",
    "# Split train/valid\n",
    "train_dataset, valid_dataset = split_train_valid(\n",
    "    train_dataset, valid_dataset, \n",
    "    valid_ratio=config.valid_ratio, \n",
    "    seed=config.seed\n",
    ")\n",
    "\n",
    "# Create dataloaders\n",
    "train_loader = get_dataloader(train_dataset, config.batch_size, 'train')\n",
    "valid_loader = get_dataloader(valid_dataset, 16, 'valid')\n",
    "test_loader = get_dataloader(test_dataset, 16, 'test')\n",
    "\n",
    "print(f'Train size: {len(train_loader.dataset)}')\n",
    "print(f'Valid size: {len(valid_loader.dataset)}')\n",
    "print(f'Test  size: {len(test_loader.dataset)}')"
   ]
  },
  {
   "cell_type": "code",
   "execution_count": 3,
   "id": "29fcc8fa",
   "metadata": {},
   "outputs": [],
   "source": [
    "import torch\n",
    "from modeler import Modeler, get_model, get_loss_fn, get_metric\n",
    "from trainer import Trainer, get_optimizer, get_scheduler, get_logger\n",
    "from stopper import get_stopper\n",
    "\n",
    "device = torch.device(\"cuda\" if torch.cuda.is_available() else \"cpu\")"
   ]
  },
  {
   "cell_type": "code",
   "execution_count": 4,
   "id": "248271b0",
   "metadata": {},
   "outputs": [
    {
     "name": "stderr",
     "output_type": "stream",
     "text": [
      "Train [1/100]: 100%|██████████| 5/5 [00:03<00:00,  1.33it/s, loss=0.472, ssim=0.191, psnr=8.711]\n",
      "Train [2/100]: 100%|██████████| 5/5 [00:03<00:00,  1.38it/s, loss=0.368, ssim=0.390, psnr=9.043]\n",
      "Train [3/100]: 100%|██████████| 5/5 [00:03<00:00,  1.38it/s, loss=0.354, ssim=0.412, psnr=9.180]\n",
      "Train [4/100]: 100%|██████████| 5/5 [00:03<00:00,  1.38it/s, loss=0.345, ssim=0.428, psnr=9.287]\n",
      "Train [5/100]: 100%|██████████| 5/5 [00:03<00:00,  1.38it/s, loss=0.346, ssim=0.428, psnr=9.249]\n",
      "Train [6/100]: 100%|██████████| 5/5 [00:03<00:00,  1.38it/s, loss=0.345, ssim=0.429, psnr=9.228]\n",
      "Train [7/100]: 100%|██████████| 5/5 [00:03<00:00,  1.40it/s, loss=0.344, ssim=0.432, psnr=9.210]\n",
      "Train [8/100]: 100%|██████████| 5/5 [00:03<00:00,  1.39it/s, loss=0.340, ssim=0.437, psnr=9.334]\n",
      "Train [9/100]: 100%|██████████| 5/5 [00:03<00:00,  1.40it/s, loss=0.343, ssim=0.432, psnr=9.293]\n",
      "Train [10/100]: 100%|██████████| 5/5 [00:03<00:00,  1.37it/s, loss=0.340, ssim=0.435, psnr=9.399]\n",
      "Train [11/100]: 100%|██████████| 5/5 [00:03<00:00,  1.38it/s, loss=0.330, ssim=0.449, psnr=9.580]\n",
      "Train [12/100]: 100%|██████████| 5/5 [00:03<00:00,  1.40it/s, loss=0.331, ssim=0.448, psnr=9.595]\n",
      "Train [13/100]: 100%|██████████| 5/5 [00:03<00:00,  1.37it/s, loss=0.327, ssim=0.454, psnr=9.657]\n",
      "Train [14/100]: 100%|██████████| 5/5 [00:03<00:00,  1.39it/s, loss=0.323, ssim=0.460, psnr=9.714]\n",
      "Train [15/100]: 100%|██████████| 5/5 [00:03<00:00,  1.40it/s, loss=0.321, ssim=0.465, psnr=9.753]\n",
      "Train [16/100]: 100%|██████████| 5/5 [00:03<00:00,  1.38it/s, loss=0.317, ssim=0.472, psnr=9.793]\n",
      "Train [17/100]: 100%|██████████| 5/5 [00:03<00:00,  1.39it/s, loss=0.315, ssim=0.475, psnr=9.784]\n",
      "Train [18/100]: 100%|██████████| 5/5 [00:03<00:00,  1.39it/s, loss=0.308, ssim=0.487, psnr=9.888]\n",
      "Train [19/100]: 100%|██████████| 5/5 [00:03<00:00,  1.38it/s, loss=0.306, ssim=0.490, psnr=9.875]\n",
      "Train [20/100]: 100%|██████████| 5/5 [00:03<00:00,  1.37it/s, loss=0.305, ssim=0.493, psnr=9.901] "
     ]
    },
    {
     "name": "stdout",
     "output_type": "stream",
     "text": [
      "Training stopped by stopper at epoch 20\n",
      "Training completed!\n"
     ]
    },
    {
     "name": "stderr",
     "output_type": "stream",
     "text": [
      "\n"
     ]
    }
   ],
   "source": [
    "model = get_model('vanilla_ae', latent_dim=512, img_size=256)\n",
    "loss_fn = get_loss_fn('combined')\n",
    "metrics = {\"ssim\": get_metric('ssim'), \"psnr\": get_metric('psnr')}\n",
    "modeler = Modeler(model, loss_fn, metrics, device)\n",
    "\n",
    "optimizer = get_optimizer(model, \"adamw\", lr=0.001, weight_decay=1e-5)\n",
    "scheduler = get_scheduler(optimizer, \"plateau\")\n",
    "logger = get_logger(\"./experments\")\n",
    "stopper = get_stopper(\"stop\", max_epoch=20)\n",
    "trainer = Trainer(modeler, optimizer, scheduler, logger, stopper)\n",
    "\n",
    "history = trainer.fit(train_loader, num_epochs=100, valid_loader=None)"
   ]
  },
  {
   "cell_type": "code",
   "execution_count": 8,
   "id": "e018384c",
   "metadata": {},
   "outputs": [
    {
     "name": "stderr",
     "output_type": "stream",
     "text": [
      "Train [1/100]: 100%|██████████| 5/5 [00:03<00:00,  1.37it/s, loss=5.784, ssim=0.060, psnr=9.017] \n",
      "Train [2/100]: 100%|██████████| 5/5 [00:03<00:00,  1.40it/s, loss=2.053, ssim=0.160, psnr=9.674]\n",
      "Train [3/100]: 100%|██████████| 5/5 [00:03<00:00,  1.38it/s, loss=0.944, ssim=0.242, psnr=9.444]\n",
      "Train [4/100]: 100%|██████████| 5/5 [00:03<00:00,  1.39it/s, loss=0.607, ssim=0.261, psnr=9.514]\n",
      "Train [5/100]: 100%|██████████| 5/5 [00:03<00:00,  1.40it/s, loss=0.383, ssim=0.292, psnr=9.911]"
     ]
    },
    {
     "name": "stdout",
     "output_type": "stream",
     "text": [
      "Training stopped by stopper at epoch 5\n",
      "Training completed!\n"
     ]
    },
    {
     "name": "stderr",
     "output_type": "stream",
     "text": [
      "\n"
     ]
    }
   ],
   "source": [
    "model = get_model('vae', latent_dim=512, img_size=256)\n",
    "loss_fn = get_loss_fn('vae')\n",
    "metrics = {\"ssim\": get_metric('ssim'), \"psnr\": get_metric('psnr')}\n",
    "modeler = Modeler(model, loss_fn, metrics, device)\n",
    "\n",
    "optimizer = get_optimizer(model, \"adamw\", lr=0.001, weight_decay=1e-5)\n",
    "scheduler = get_scheduler(optimizer, \"plateau\")\n",
    "logger = get_logger(\"./experments\")\n",
    "stopper = get_stopper(\"stop\", max_epoch=5)\n",
    "trainer = Trainer(modeler, optimizer, scheduler, logger, stopper)\n",
    "\n",
    "history = trainer.fit(train_loader, num_epochs=100, valid_loader=None)"
   ]
  }
 ],
 "metadata": {
  "kernelspec": {
   "display_name": "pytorch_env",
   "language": "python",
   "name": "python3"
  },
  "language_info": {
   "codemirror_mode": {
    "name": "ipython",
    "version": 3
   },
   "file_extension": ".py",
   "mimetype": "text/x-python",
   "name": "python",
   "nbconvert_exporter": "python",
   "pygments_lexer": "ipython3",
   "version": "3.10.16"
  }
 },
 "nbformat": 4,
 "nbformat_minor": 5
}
