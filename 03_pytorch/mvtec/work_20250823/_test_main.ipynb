{
 "cells": [
  {
   "cell_type": "code",
   "execution_count": 1,
   "id": "5712a499",
   "metadata": {},
   "outputs": [],
   "source": [
    "from config import Config\n",
    "\n",
    "config = Config()"
   ]
  },
  {
   "cell_type": "code",
   "execution_count": null,
   "id": "79eeb5f1",
   "metadata": {},
   "outputs": [],
   "source": [
    "from data import MVTecDataset, get_transforms, get_dataloader, split_train_valid\n",
    "\n",
    "# Get transforms\n",
    "train_transform, test_transform = get_transforms(img_size=config.img_size)\n",
    "\n",
    "# Create datasets\n",
    "train_dataset = MVTecDataset(config.data_dir, config.categories, 'train', transform=train_transform)\n",
    "valid_dataset = MVTecDataset(config.data_dir, config.categories, 'train', transform=test_transform)\n",
    "test_dataset = MVTecDataset(config.data_dir, config.categories, 'test', transform=test_transform)\n",
    "\n",
    "# Split train/valid\n",
    "train_dataset, valid_dataset = split_train_valid(\n",
    "    train_dataset, valid_dataset, \n",
    "    valid_ratio=config.valid_ratio, \n",
    "    seed=config.seed\n",
    ")\n",
    "\n",
    "# Create dataloaders\n",
    "train_loader = get_dataloader(train_dataset, config.batch_size, 'train')\n",
    "valid_loader = get_dataloader(valid_dataset, 16, 'valid')  # Smaller batch for validation\n",
    "test_loader = get_dataloader(test_dataset, 16, 'test')"
   ]
  },
  {
   "cell_type": "code",
   "execution_count": null,
   "id": "0f5f3638",
   "metadata": {},
   "outputs": [],
   "source": []
  },
  {
   "cell_type": "code",
   "execution_count": null,
   "id": "90059ceb",
   "metadata": {},
   "outputs": [],
   "source": []
  },
  {
   "cell_type": "code",
   "execution_count": null,
   "id": "923558ff",
   "metadata": {},
   "outputs": [],
   "source": []
  },
  {
   "cell_type": "code",
   "execution_count": null,
   "id": "e1e04fa4",
   "metadata": {},
   "outputs": [],
   "source": []
  }
 ],
 "metadata": {
  "kernelspec": {
   "display_name": "pytorch_env",
   "language": "python",
   "name": "python3"
  },
  "language_info": {
   "codemirror_mode": {
    "name": "ipython",
    "version": 3
   },
   "file_extension": ".py",
   "mimetype": "text/x-python",
   "name": "python",
   "nbconvert_exporter": "python",
   "pygments_lexer": "ipython3",
   "version": "3.10.16"
  }
 },
 "nbformat": 4,
 "nbformat_minor": 5
}
