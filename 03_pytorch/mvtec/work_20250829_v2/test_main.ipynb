{
 "cells": [
  {
   "cell_type": "code",
   "execution_count": 1,
   "id": "b859af92",
   "metadata": {},
   "outputs": [
    {
     "name": "stderr",
     "output_type": "stream",
     "text": [
      "/home/nampl/anaconda3/envs/pytorch_env/lib/python3.10/site-packages/tqdm/auto.py:21: TqdmWarning: IProgress not found. Please update jupyter and ipywidgets. See https://ipywidgets.readthedocs.io/en/stable/user_install.html\n",
      "  from .autonotebook import tqdm as notebook_tqdm\n"
     ]
    }
   ],
   "source": [
    "import timm\n"
   ]
  },
  {
   "cell_type": "code",
   "execution_count": null,
   "id": "8973ec6a",
   "metadata": {},
   "outputs": [
    {
     "name": "stdout",
     "output_type": "stream",
     "text": [
      " > Train dataset: 147\n",
      " > Valid dataset: 62\n",
      " > Test dataset:  83\n"
     ]
    }
   ],
   "source": [
    "from datasets.dataset_factory import get_transform\n",
    "from datasets.dataset_mvtec import MVTecDataloader\n",
    "\n",
    "mvtec = MVTecDataloader(\n",
    "    data_dir='/mnt/d/datasets/mvtec',\n",
    "    categories=[\"bottle\"],\n",
    "    train_batch_size=32,\n",
    "    test_batch_size=16,\n",
    "    train_transform = get_transform(\"train\"),\n",
    "    test_transform = get_transform(\"test\"),\n",
    "    valid_ratio=0.3,\n",
    "    seed=42,\n",
    "    num_workers= 8,\n",
    "    pin_memory=True,\n",
    "    persistent_workers=True,\n",
    ")\n",
    "train_loader = mvtec.train_loader()\n",
    "valid_loader = mvtec.valid_loader()\n",
    "test_loader = mvtec.test_loader()\n",
    "\n",
    "print(f\" > Train dataset: {len(train_loader.dataset)}\")\n",
    "print(f\" > Valid dataset: {len(valid_loader.dataset)}\")\n",
    "print(f\" > Test dataset:  {len(test_loader.dataset)}\")"
   ]
  },
  {
   "cell_type": "code",
   "execution_count": null,
   "id": "7141d770",
   "metadata": {},
   "outputs": [
    {
     "name": "stdout",
     "output_type": "stream",
     "text": [
      "168\n",
      "41\n",
      "83\n"
     ]
    }
   ],
   "source": []
  }
 ],
 "metadata": {
  "kernelspec": {
   "display_name": "pytorch_env",
   "language": "python",
   "name": "python3"
  },
  "language_info": {
   "codemirror_mode": {
    "name": "ipython",
    "version": 3
   },
   "file_extension": ".py",
   "mimetype": "text/x-python",
   "name": "python",
   "nbconvert_exporter": "python",
   "pygments_lexer": "ipython3",
   "version": "3.10.16"
  }
 },
 "nbformat": 4,
 "nbformat_minor": 5
}
