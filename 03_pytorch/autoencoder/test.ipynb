{
 "cells": [
  {
   "cell_type": "code",
   "execution_count": null,
   "id": "1a0533d8",
   "metadata": {},
   "outputs": [],
   "source": [
    "###########################################\n",
    "# CLI 환경에서 실행\n",
    "# > python run.py (main_config1.py, config1)\n",
    "# 1. 데이터 로더 생성\n",
    "# 2. 모델 초기화\n",
    "# 3. 모델 훈련\n",
    "# 4. 모델 저장 (선택사항)\n",
    "\n",
    "###########################################\n",
    "# jupyter notebook에서 분석\n",
    "# 1. 모델 불러오기\n",
    "# 2. 테스트 평가\n",
    "# 3. 시각화"
   ]
  },
  {
   "cell_type": "code",
   "execution_count": 1,
   "id": "6d5de6be",
   "metadata": {},
   "outputs": [
    {
     "name": "stdout",
     "output_type": "stream",
     "text": [
      "Configuration:\n",
      "  data_dir: /mnt/d/datasets/mvtec\n",
      "  seed: 42\n",
      "  device: cuda\n",
      "  img_size: 256\n",
      "  normalize: False\n",
      "  category: bottle\n",
      "  batch_size: 32\n",
      "  valid_ratio: 0.2\n",
      "  latent_dim: 512\n",
      "  num_epochs: 50\n",
      "  learning_rate: 0.001\n",
      "  weight_decay: 1e-05\n",
      "  save_models: True\n",
      "  save_results: True\n",
      "  experiment_name: bottle_512_256\n"
     ]
    }
   ],
   "source": [
    "from config import Config, print_config\n",
    "\n",
    "config = Config()\n",
    "\n",
    "print_config(config)"
   ]
  }
 ],
 "metadata": {
  "kernelspec": {
   "display_name": "pytorch_env",
   "language": "python",
   "name": "python3"
  },
  "language_info": {
   "codemirror_mode": {
    "name": "ipython",
    "version": 3
   },
   "file_extension": ".py",
   "mimetype": "text/x-python",
   "name": "python",
   "nbconvert_exporter": "python",
   "pygments_lexer": "ipython3",
   "version": "3.10.16"
  }
 },
 "nbformat": 4,
 "nbformat_minor": 5
}
