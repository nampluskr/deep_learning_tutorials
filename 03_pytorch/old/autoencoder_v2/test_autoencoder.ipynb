{
 "cells": [
  {
   "cell_type": "code",
   "execution_count": 1,
   "id": "f4399371",
   "metadata": {},
   "outputs": [
    {
     "ename": "ImportError",
     "evalue": "cannot import name 'evaluate_model' from 'train' (/mnt/d/github/deep_learning_tutorials/03_pytorch/autoencoder_v2/train.py)",
     "output_type": "error",
     "traceback": [
      "\u001b[0;31m---------------------------------------------------------------------------\u001b[0m",
      "\u001b[0;31mImportError\u001b[0m                               Traceback (most recent call last)",
      "Cell \u001b[0;32mIn[1], line 5\u001b[0m\n\u001b[1;32m      3\u001b[0m \u001b[38;5;28;01mfrom\u001b[39;00m \u001b[38;5;21;01mmvtec\u001b[39;00m \u001b[38;5;28;01mimport\u001b[39;00m get_transforms, get_dataloaders\n\u001b[1;32m      4\u001b[0m \u001b[38;5;28;01mfrom\u001b[39;00m \u001b[38;5;21;01mmodels\u001b[39;00m \u001b[38;5;28;01mimport\u001b[39;00m get_model, get_model_info\n\u001b[0;32m----> 5\u001b[0m \u001b[38;5;28;01mfrom\u001b[39;00m \u001b[38;5;21;01mtrain\u001b[39;00m \u001b[38;5;28;01mimport\u001b[39;00m set_seed, train_epoch, evaluate_model\n",
      "\u001b[0;31mImportError\u001b[0m: cannot import name 'evaluate_model' from 'train' (/mnt/d/github/deep_learning_tutorials/03_pytorch/autoencoder_v2/train.py)"
     ]
    }
   ],
   "source": [
    "import torch\n",
    "from config import Config, print_config\n",
    "from mvtec import get_transforms, get_dataloaders\n",
    "from models import get_model, get_model_info\n",
    "from train import set_seed, train_epoch, evaluate_model"
   ]
  },
  {
   "cell_type": "code",
   "execution_count": null,
   "id": "2af4b557",
   "metadata": {},
   "outputs": [],
   "source": [
    "## Configurations\n",
    "config = Config(\n",
    "    device=\"cuda\" if torch.cuda.is_available() else \"cpu\",\n",
    "    num_epochs=10,\n",
    "    batch_size=32,\n",
    ")\n",
    "print_config(config)"
   ]
  },
  {
   "cell_type": "code",
   "execution_count": null,
   "id": "eefaa0f9",
   "metadata": {},
   "outputs": [],
   "source": [
    "set_seed(config.seed)"
   ]
  },
  {
   "cell_type": "code",
   "execution_count": null,
   "id": "e8aed717",
   "metadata": {},
   "outputs": [],
   "source": [
    "## Data Loaders\n",
    "train_transform, test_transform = get_transforms()\n",
    "train_loader, valid_loader, test_loader = get_dataloaders(\n",
    "    data_dir=config.data_dir,\n",
    "    category=config.category,\n",
    "    train_transform=train_transform, \n",
    "    test_transform=test_transform,\n",
    "    batch_size=config.batch_size,\n",
    "    valid_ratio=config.valid_ratio,\n",
    ")"
   ]
  },
  {
   "cell_type": "code",
   "execution_count": null,
   "id": "1ebdfd87",
   "metadata": {},
   "outputs": [],
   "source": [
    "## Modeling\n",
    "model = get_model(\"vanilla_ae\").to(config.device)\n",
    "get_model_info(\"vanilla_ae\")"
   ]
  },
  {
   "cell_type": "code",
   "execution_count": null,
   "id": "e2e1ca60",
   "metadata": {},
   "outputs": [],
   "source": [
    "## Training and Validation\n"
   ]
  }
 ],
 "metadata": {
  "kernelspec": {
   "display_name": "pytorch_env",
   "language": "python",
   "name": "python3"
  },
  "language_info": {
   "codemirror_mode": {
    "name": "ipython",
    "version": 3
   },
   "file_extension": ".py",
   "mimetype": "text/x-python",
   "name": "python",
   "nbconvert_exporter": "python",
   "pygments_lexer": "ipython3",
   "version": "3.10.16"
  }
 },
 "nbformat": 4,
 "nbformat_minor": 5
}
