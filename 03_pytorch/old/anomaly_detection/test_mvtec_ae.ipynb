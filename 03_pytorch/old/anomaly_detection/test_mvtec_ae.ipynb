{
 "cells": [
  {
   "cell_type": "code",
   "execution_count": null,
   "id": "886aa4ec",
   "metadata": {},
   "outputs": [],
   "source": [
    "import mvtec\n",
    "import train\n",
    "import vanila_ae as ae\n",
    "from config import Config, print_config"
   ]
  },
  {
   "cell_type": "code",
   "execution_count": null,
   "id": "ee3e99a0",
   "metadata": {},
   "outputs": [],
   "source": [
    "config = Config(\n",
    "    data_dir='/mnt/d/datasets/mvtec',\n",
    "    batch_size=32,\n",
    "    num_epochs=10,\n",
    "    experiment_name='test_mvtec_vanila_ae',\n",
    ")\n",
    "print_config(config)"
   ]
  },
  {
   "cell_type": "code",
   "execution_count": null,
   "id": "21445d4a",
   "metadata": {},
   "outputs": [],
   "source": [
    "train.set_device(seed=config.seed)\n",
    "\n",
    "train_transform, test_transform = mvtec.get_transforms(\n",
    "    img_size=config.img_size,\n",
    "    normalize=config.normalize\n",
    ")\n",
    "\n",
    "train_loader, valid_loader, test_loader = mvtec.get_dataloaders(\n",
    "    data_dir=config.data_dir, \n",
    "    category=config.category, \n",
    "    batch_size=config.batch_size,\n",
    "    train_transform=train_transform, \n",
    "    test_transform=test_transform\n",
    ")"
   ]
  },
  {
   "cell_type": "code",
   "execution_count": null,
   "id": "9600ba5f",
   "metadata": {},
   "outputs": [],
   "source": [
    "model = ae.VanillaAutoEncoder(latent_dim=config.latent_dim).to(config.device)\n",
    "\n",
    "total_params = sum(p.numel() for p in model.parameters())\n",
    "model_size_mb = total_params * 4 / (1024 * 1024)  # float32 기준\n",
    "\n",
    "print(f\"Model parameters: {total_params:,}\")\n",
    "print(f\"Model size: {model_size_mb:.1f} MB\")"
   ]
  },
  {
   "cell_type": "code",
   "execution_count": null,
   "id": "375a1c5e",
   "metadata": {},
   "outputs": [],
   "source": [
    "trained_model, history = train.train_model(\n",
    "                model, \n",
    "                train_loader, \n",
    "                valid_loader, \n",
    "                num_epochs=config.num_epochs\n",
    ")"
   ]
  },
  {
   "cell_type": "code",
   "execution_count": null,
   "id": "cff4ee86",
   "metadata": {},
   "outputs": [],
   "source": [
    "results, detailed_results = train.evaluate_model(trained_model, test_loader)\n",
    "\n",
    "results"
   ]
  }
 ],
 "metadata": {
  "kernelspec": {
   "display_name": "pytorch_env",
   "language": "python",
   "name": "python3"
  },
  "language_info": {
   "codemirror_mode": {
    "name": "ipython",
    "version": 3
   },
   "file_extension": ".py",
   "mimetype": "text/x-python",
   "name": "python",
   "nbconvert_exporter": "python",
   "pygments_lexer": "ipython3",
   "version": "3.10.16"
  }
 },
 "nbformat": 4,
 "nbformat_minor": 5
}
