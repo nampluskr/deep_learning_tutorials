{
 "cells": [
  {
   "cell_type": "code",
   "execution_count": 1,
   "id": "8048eb4b",
   "metadata": {},
   "outputs": [],
   "source": [
    "from config import Config, print_config\n",
    "from train import train_model"
   ]
  },
  {
   "cell_type": "code",
   "execution_count": 4,
   "id": "ffd405f1",
   "metadata": {},
   "outputs": [
    {
     "name": "stdout",
     "output_type": "stream",
     "text": [
      "\n",
      "*** Setting Seed...\n",
      " > Seed:   42\n",
      " > Device: cuda\n",
      " > GPU:    NVIDIA GeForce GTX 1080 Ti\n",
      "\n",
      "*** Loading data...\n",
      "Loaded bottle train: 209 images\n",
      " > Normal:  209\n",
      " > Anomaly: 0\n",
      "Loaded bottle test: 83 images\n",
      " > Normal:  20\n",
      " > Anomaly: 63\n",
      "Loaded bottle train: 209 images\n",
      " > Normal:  209\n",
      " > Anomaly: 0\n",
      "\n",
      "*** Creating model...\n",
      " > Model: unet_ae\n",
      "\n",
      "*** Starting training...\n",
      " > Epoch [ 1/10] loss=0.0794, l1=0.2096, bce=0.6406 | (val) loss=0.0410, l1=0.1552, bce=0.4681\n",
      " > Epoch [ 2/10] loss=0.0222, l1=0.1021, bce=0.5042 | (val) loss=0.0150, l1=0.0934, bce=0.4038\n",
      " > Epoch [ 3/10] loss=0.0097, l1=0.0664, bce=0.4736 | (val) loss=0.0073, l1=0.0635, bce=0.3803\n",
      " > Epoch [ 4/10] loss=0.0059, l1=0.0493, bce=0.4632 | (val) loss=0.0045, l1=0.0496, bce=0.3706\n",
      " > Epoch [ 5/10] loss=0.0046, l1=0.0426, bce=0.4607 | (val) loss=0.0039, l1=0.0466, bce=0.3680\n",
      " > Epoch [ 6/10] loss=0.0039, l1=0.0381, bce=0.4612 | (val) loss=0.0037, l1=0.0463, bce=0.3671\n",
      " > Epoch [ 7/10] loss=0.0033, l1=0.0343, bce=0.4491 | (val) loss=0.0031, l1=0.0426, bce=0.3652\n",
      " > Epoch [ 8/10] loss=0.0029, l1=0.0321, bce=0.4517 | (val) loss=0.0030, l1=0.0429, bce=0.3650\n",
      " > Epoch [ 9/10] loss=0.0026, l1=0.0295, bce=0.4485 | (val) loss=0.0029, l1=0.0432, bce=0.3646\n",
      " > Epoch [10/10] loss=0.0023, l1=0.0277, bce=0.4494 | (val) loss=0.0028, l1=0.0429, bce=0.3642\n",
      "\n",
      "*** Training completed.\n"
     ]
    }
   ],
   "source": [
    "config1 = Config(\n",
    "    model_type='unet_ae',\n",
    "    num_epochs=10,\n",
    ")\n",
    "train_model(config1)"
   ]
  },
  {
   "cell_type": "code",
   "execution_count": 3,
   "id": "cbf53767",
   "metadata": {},
   "outputs": [
    {
     "name": "stdout",
     "output_type": "stream",
     "text": [
      "\n",
      "*** Setting Seed...\n",
      " > Seed:   42\n",
      " > Device: cuda\n",
      " > GPU:    NVIDIA GeForce GTX 1080 Ti\n",
      "\n",
      "*** Loading data...\n",
      "Loaded bottle train: 209 images\n",
      " > Normal:  209\n",
      " > Anomaly: 0\n",
      "Loaded bottle test: 83 images\n",
      " > Normal:  20\n",
      " > Anomaly: 63\n",
      "Loaded bottle train: 209 images\n",
      " > Normal:  209\n",
      " > Anomaly: 0\n",
      "\n",
      "*** Creating model...\n",
      " > Model: vanilla_ae\n",
      "\n",
      "*** Starting training...\n",
      " > Epoch [ 1/5] loss=0.1095, l1=0.2857, bce=0.7021 | (val) loss=0.0966, l1=0.2798, bce=0.5968\n",
      " > Epoch [ 2/5] loss=0.0615, l1=0.2075, bce=0.5955 | (val) loss=0.0619, l1=0.2245, bce=0.5211\n",
      " > Epoch [ 3/5] loss=0.0407, l1=0.1617, bce=0.5478 | (val) loss=0.0438, l1=0.1833, bce=0.4776\n",
      " > Epoch [ 4/5] loss=0.0293, l1=0.1243, bce=0.5245 | (val) loss=0.0315, l1=0.1487, bce=0.4460\n",
      " > Epoch [ 5/5] loss=0.0259, l1=0.1050, bce=0.5086 | (val) loss=0.0280, l1=0.1307, bce=0.4341\n",
      "\n",
      "*** Training completed.\n"
     ]
    }
   ],
   "source": [
    "config2 = Config(\n",
    "    model_type='vanilla_ae',\n",
    "    num_epochs=5,\n",
    ")\n",
    "train_model(config2)"
   ]
  },
  {
   "cell_type": "code",
   "execution_count": null,
   "id": "7fdeb3fa",
   "metadata": {},
   "outputs": [],
   "source": []
  }
 ],
 "metadata": {
  "kernelspec": {
   "display_name": "pytorch_env",
   "language": "python",
   "name": "python3"
  },
  "language_info": {
   "codemirror_mode": {
    "name": "ipython",
    "version": 3
   },
   "file_extension": ".py",
   "mimetype": "text/x-python",
   "name": "python",
   "nbconvert_exporter": "python",
   "pygments_lexer": "ipython3",
   "version": "3.10.16"
  }
 },
 "nbformat": 4,
 "nbformat_minor": 5
}
